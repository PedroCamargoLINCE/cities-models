{
 "cells": [
  {
   "cell_type": "markdown",
   "id": "7486aae9",
   "metadata": {},
   "source": [
    "# Correção do Formato de Data\n",
    "\n",
    "Este notebook corrige a coluna `week` em todos os arquivos `df_base_*.csv` no diretório `data/`.\n",
    "\n",
    "A coluna `week` é um número inteiro sequencial (1, 2, 3, ...) que representa o número da semana desde uma data de início. Este script converte esse número inteiro em um formato de data (`datetime`) completo.\n",
    "\n",
    "**Data de Início:** `1999-01-01`"
   ]
  },
  {
   "cell_type": "code",
   "execution_count": 1,
   "id": "2f5ec0bf",
   "metadata": {},
   "outputs": [
    {
     "name": "stdout",
     "output_type": "stream",
     "text": [
      "Processando df_base_morb_circ.csv...\n",
      "--> Sucesso: df_base_morb_circ.csv foi atualizado e salvo.\n",
      "\n",
      "Processo de correção de datas concluído.\n",
      "--> Sucesso: df_base_morb_circ.csv foi atualizado e salvo.\n",
      "\n",
      "Processo de correção de datas concluído.\n"
     ]
    }
   ],
   "source": [
    "import pandas as pd\n",
    "import os\n",
    "\n",
    "# --- CONFIGURAÇÃO ---\n",
    "# A data de início correta, conforme especificado.\n",
    "start_date = pd.to_datetime('1999-01-01')\n",
    "data_dir = '../data'\n",
    "target_file = 'df_base_morb_circ.csv'\n",
    "# ---------------------\n",
    "\n",
    "# Garante que o diretório de dados existe\n",
    "if not os.path.isdir(data_dir):\n",
    "    print(f\"Erro: O diretório '{data_dir}' não foi encontrado. Verifique o caminho.\")\n",
    "else:\n",
    "    file_path = os.path.join(data_dir, target_file)\n",
    "    \n",
    "    if not os.path.exists(file_path):\n",
    "        print(f\"Erro: O arquivo '{target_file}' não foi encontrado em {data_dir}\")\n",
    "    else:\n",
    "        try:\n",
    "            print(f\"Processando {target_file}...\")\n",
    "            df = pd.read_csv(file_path)\n",
    "\n",
    "            # Verifica se a coluna 'week' existe e é numérica\n",
    "            if 'week' in df.columns and pd.api.types.is_numeric_dtype(df['week']):\n",
    "                # Converte a semana inteira para datetime\n",
    "                # Subtrai 1 porque a contagem da semana começa em 1\n",
    "                df['week'] = start_date + pd.to_timedelta(df['week'] - 1, unit='W')\n",
    "\n",
    "                # Salva o dataframe atualizado de volta no mesmo arquivo\n",
    "                df.to_csv(file_path, index=False)\n",
    "                print(f\"--> Sucesso: {target_file} foi atualizado e salvo.\")\n",
    "            else:\n",
    "                print(f\"--> Erro: a coluna 'week' não foi encontrada ou não é numérica em {target_file}.\")\n",
    "\n",
    "        except Exception as e:\n",
    "            print(f\"--> Erro ao processar {target_file}: {e}\")\n",
    "        \n",
    "        print(\"\\nProcesso de correção de datas concluído.\")"
   ]
  },
  {
   "cell_type": "code",
   "execution_count": null,
   "id": "a9942bf1",
   "metadata": {},
   "outputs": [],
   "source": []
  }
 ],
 "metadata": {
  "kernelspec": {
   "display_name": ".conda",
   "language": "python",
   "name": "python3"
  },
  "language_info": {
   "codemirror_mode": {
    "name": "ipython",
    "version": 3
   },
   "file_extension": ".py",
   "mimetype": "text/x-python",
   "name": "python",
   "nbconvert_exporter": "python",
   "pygments_lexer": "ipython3",
   "version": "3.10.16"
  }
 },
 "nbformat": 4,
 "nbformat_minor": 5
}
