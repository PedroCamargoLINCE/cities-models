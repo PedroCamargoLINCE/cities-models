{
 "cells": [
  {
   "cell_type": "markdown",
   "id": "be8a8e10",
   "metadata": {},
   "source": [
    "# GRU Simples (Previsão da Soma das Próximas 4 Semanas)\n",
    "\n",
    "Este notebook implementa o modelo GRU simples para previsão da **soma das próximas 4 semanas** (previsão mensal) das taxas de morbidade respiratória em municípios brasileiros.\n",
    "\n",
    "- **Modelo:** GRU Simples\n",
    "- **Alvo:** Soma das próximas 4 semanas (previsão mensal)\n",
    "- **Input:** sequência de 12 semanas (shape: [batch, 12, 1])\n",
    "- **Arquitetura:** GRU(32, return_sequences=False) → Dense(1)\n",
    "- **Perda:** MAE\n",
    "- **Todo o código é modular e importado dos módulos `src/`.**"
   ]
  },
  {
   "cell_type": "code",
   "execution_count": null,
   "id": "29c84f48",
   "metadata": {},
   "outputs": [],
   "source": [
    "import sys\n",
    "import os\n",
    "\n",
    "# Get the absolute path to the project root\n",
    "project_root = os.path.abspath(os.path.join(os.getcwd(), '..'))\n",
    "print(f\"Project root: {project_root}\")\n",
    "\n",
    "# Add the project root to sys.path (not the src directory)\n",
    "if project_root not in sys.path:\n",
    "    sys.path.insert(0, project_root)\n",
    "    print(f\"Added {project_root} to sys.path\")\n",
    "import numpy as np\n",
    "import pandas as pd\n",
    "import matplotlib.pyplot as plt\n",
    "import seaborn as sns\n",
    "import os\n",
    "\n",
    "from src.preprocessing import load_city_data, prepare_data_for_model, filter_city, clean_timeseries\n",
    "from src.models import build_gru\n",
    "from src.train import train_model, evaluate_model, generate_forecasts, save_predictions, save_metrics\n",
    "from src.utils import plot_forecast, plot_forecast_error, plot_training_history\n",
    "\n",
    "results_dir = os.path.join('results', 'gru_simple')\n",
    "os.makedirs(results_dir, exist_ok=True)\n",
    "\n",
    "np.random.seed(42)  "
   ]
  },
  {
   "cell_type": "markdown",
   "id": "b139edcf",
   "metadata": {},
   "source": [
    "## Estrutura do Repositório\n",
    "\n",
    "- **data/**: Um CSV por cidade, cada um com coluna de data, coluna alvo e features opcionais.\n",
    "- **notebooks/**: Notebooks para cada experimento. Apenas visualização e exploração.\n",
    "- **src/**: Módulos reutilizáveis:\n",
    "    - `preprocessing.py`: Carregamento, normalização, split, criação de janelas\n",
    "    - `models.py`: Definições de modelos (baselines, MLP, LSTM, GRU, etc.)\n",
    "    - `train.py`: Rotinas de treino e avaliação\n",
    "    - `utils.py`: Funções auxiliares (plot, métricas, etc.)\n",
    "- **results/**: Previsões e métricas salvas.\n",
    "- **instructions.md**: Guia de boas práticas.\n",
    "\n",
    "**Toda a lógica central está em `src/`.**"
   ]
  },
  {
   "cell_type": "markdown",
   "id": "40407ec7",
   "metadata": {},
   "source": [
    "## Carregamento e Exploração dos Dados\n",
    "\n",
    "Carregue os dados de morbidade respiratória para análise. Você pode iterar sobre todas as cidades ou selecionar uma específica."
   ]
  },
  {
   "cell_type": "code",
   "execution_count": null,
   "id": "54acb739",
   "metadata": {},
   "outputs": [],
   "source": [
    "# Exemplo: Carregar dados de uma cidade (ajuste o caminho conforme necessário)\n",
    "data_path = '../data/df_base_morb_resp.csv'\n",
    "df = load_city_data(data_path)\n",
    "\n",
    "print(f\"Formato do dataset: {df.shape}\")\n",
    "df.head()"
   ]
  },
  {
   "cell_type": "code",
   "execution_count": null,
   "id": "94eac919",
   "metadata": {},
   "outputs": [],
   "source": [
    "print(\"Colunas disponíveis:\")\n",
    "print(df.columns.tolist())\n",
    "df.describe()"
   ]
  },
  {
   "cell_type": "code",
   "execution_count": 4,
   "id": "abedae67",
   "metadata": {},
   "outputs": [
    {
     "name": "stdout",
     "output_type": "stream",
     "text": [
      "Selected city shape: (1200, 11)\n"
     ]
    }
   ],
   "source": [
    "# Select city for modeling (set to None to use all cities)\n",
    "CD_MUN_SELECTED = 3550308  # São Paulo\n",
    "\n",
    "df_city = filter_city(df, cd_mun=CD_MUN_SELECTED)\n",
    "df_city = clean_timeseries(df_city, target_column='target')\n",
    "print(f\"Selected city shape: {df_city.shape}\")"
   ]
  },
  {
   "cell_type": "markdown",
   "id": "948678d1",
   "metadata": {},
   "source": [
    "## Pré-processamento\n",
    "\n",
    "Prepare os dados para o modelo GRU simples. O input é uma sequência de 12 semanas."
   ]
  },
  {
   "cell_type": "code",
   "execution_count": 5,
   "id": "e1b3ec7d",
   "metadata": {},
   "outputs": [],
   "source": [
    "model_params = {\n",
    "    'sequence_length': 12,\n",
    "    'forecast_horizon': 4,  # Soma das próximas 4 semanas (previsão mensal)\n",
    "    'normalization': 'zscore',\n",
    "    'val_size': None\n",
    "}\n",
    "\n",
    "target_column = 'target'\n",
    "\n",
    "data_dict = prepare_data_for_model(\n",
    "    df=df_city,\n",
    "    target_column=target_column,\n",
    "    sequence_length=model_params['sequence_length'],\n",
    "    forecast_horizon=model_params['forecast_horizon'],\n",
    "    normalization=model_params['normalization'],\n",
    "    val_size=model_params.get('val_size', None)\n",
    ")\n",
    "\n",
    "X_train = data_dict['X_train']\n",
    "y_train = data_dict['y_train']\n",
    "X_val = data_dict.get('X_val', None)\n",
    "y_val = data_dict.get('y_val', None)\n",
    "X_test = data_dict['X_test']\n",
    "y_test = data_dict['y_test']\n",
    "test_df = data_dict['test_df']\n",
    "scaler = data_dict.get('scaler')\n",
    "feature_columns = data_dict.get('feature_columns', None)"
   ]
  },
  {
   "cell_type": "markdown",
   "id": "bf645b90",
   "metadata": {},
   "source": [
    "## Definição e Treinamento do Modelo\n",
    "\n",
    "O modelo GRU simples utiliza uma camada GRU com 32 unidades e uma camada densa de saída."
   ]
  },
  {
   "cell_type": "code",
   "execution_count": null,
   "id": "adb6325d",
   "metadata": {},
   "outputs": [],
   "source": [
    "input_shape = X_train.shape[1:]\n",
    "model = build_gru(input_shape=input_shape, units=32, loss='mae')\n",
    "\n",
    "history = train_model(\n",
    "    model=model,\n",
    "    X_train=X_train,\n",
    "    y_train=y_train,\n",
    "    X_val=X_val,\n",
    "    y_val=y_val,\n",
    "    batch_size=32,\n",
    "    epochs=100,\n",
    "    patience=10,\n",
    "    verbose=1\n",
    ")"
   ]
  },
  {
   "cell_type": "markdown",
   "id": "b3258b1b",
   "metadata": {},
   "source": [
    "## Avaliação do Modelo\n",
    "\n",
    "Calcule MAE, RMSE e R² para o modelo GRU simples."
   ]
  },
  {
   "cell_type": "code",
   "execution_count": 7,
   "id": "632a64dc",
   "metadata": {},
   "outputs": [
    {
     "name": "stdout",
     "output_type": "stream",
     "text": [
      "\u001b[1m2/2\u001b[0m \u001b[32m━━━━━━━━━━━━━━━━━━━━\u001b[0m\u001b[37m\u001b[0m \u001b[1m0s\u001b[0m 116ms/step\n",
      "\u001b[1m2/2\u001b[0m \u001b[32m━━━━━━━━━━━━━━━━━━━━\u001b[0m\u001b[37m\u001b[0m \u001b[1m0s\u001b[0m 116ms/step\n",
      "Métricas de Avaliação:\n",
      "MAE: 53.6629\n",
      "RMSE: 72.5197\n",
      "R²: 0.5178\n",
      "Métricas de Avaliação:\n",
      "MAE: 53.6629\n",
      "RMSE: 72.5197\n",
      "R²: 0.5178\n"
     ]
    }
   ],
   "source": [
    "metrics = evaluate_model(\n",
    "    model=model,\n",
    "    X_test=X_test,\n",
    "    y_test=y_test,\n",
    "    scaler=scaler\n",
    ")\n",
    "\n",
    "print(\"Métricas de Avaliação:\")\n",
    "print(f\"MAE: {metrics['mae']:.4f}\")\n",
    "print(f\"RMSE: {metrics['rmse']:.4f}\")\n",
    "print(f\"R²: {metrics['r2']:.4f}\")"
   ]
  },
  {
   "cell_type": "markdown",
   "id": "d21c930a",
   "metadata": {},
   "source": [
    "## Visualização dos Resultados\n",
    "\n",
    "Plote os valores reais versus previstos e o erro de previsão. O alvo é a **soma das próximas 4 semanas** (previsão mensal)."
   ]
  },
  {
   "cell_type": "code",
   "execution_count": null,
   "id": "82dd9ab8",
   "metadata": {},
   "outputs": [],
   "source": [
    "def reduce_to_1d(arr):\n",
    "    arr = np.asarray(arr)\n",
    "    if arr.ndim == 1:\n",
    "        return arr\n",
    "    if arr.ndim == 2:\n",
    "        if arr.shape[1] == 1:\n",
    "            return arr.ravel()\n",
    "        else:\n",
    "            return arr.sum(axis=1)\n",
    "    raise ValueError(f\"Unexpected array shape: {arr.shape}\")\n",
    "\n",
    "# Always define robust 1D, denormalized arrays for all plots and DataFrames\n",
    "y_test_1d = reduce_to_1d(y_test)\n",
    "y_pred = generate_forecasts(model, X_test)\n",
    "y_pred_1d = reduce_to_1d(y_pred)\n",
    "if scaler is not None and hasattr(scaler, 'scale_') and hasattr(scaler, 'mean_'):\n",
    "    if scaler.scale_.shape[0] > 1:\n",
    "        y_test_1d = y_test_1d * scaler.scale_[0] + scaler.mean_[0]\n",
    "        y_pred_1d = y_pred_1d * scaler.scale_[0] + scaler.mean_[0]\n",
    "    else:\n",
    "        y_test_1d = scaler.inverse_transform(y_test_1d.reshape(-1, 1)).flatten()\n",
    "        y_pred_1d = scaler.inverse_transform(y_pred_1d.reshape(-1, 1)).flatten()\n",
    "\n",
    "# Always define test_dates before plotting\n",
    "test_dates = test_df['week'].values[-len(y_test_1d):] if 'week' in test_df.columns else np.arange(len(y_test_1d))"
   ]
  },
  {
   "cell_type": "code",
   "execution_count": null,
   "id": "da62baeb",
   "metadata": {},
   "outputs": [],
   "source": [
    "# --- Advanced Evaluation and Visualization ---\n",
    "\n",
    "# 1. Forecast vs Actual (already present)\n",
    "fig1 = plot_forecast(y_test_1d, y_pred_1d, dates=test_dates, title=\"Forecast vs Actual\")\n",
    "fig1.show()\n",
    "\n",
    "# 2. Forecast Error (already present)\n",
    "fig2 = plot_forecast_error(y_test_1d, y_pred_1d, dates=test_dates, title=\"Forecast Error\")\n",
    "fig2.show()\n",
    "\n",
    "# 3. Distribution of Errors\n",
    "errors = y_pred_1d - y_test_1d\n",
    "plt.figure(figsize=(10,6))\n",
    "sns.histplot(errors, kde=True, bins=30, color='crimson')\n",
    "plt.title('Distribution of Forecast Errors')\n",
    "plt.xlabel('Error (Predicted - Actual)')\n",
    "plt.ylabel('Frequency')\n",
    "plt.grid(True)\n",
    "plt.show()\n",
    "\n",
    "# 4. Scatter Plot: Actual vs Predicted\n",
    "plt.figure(figsize=(8,8))\n",
    "plt.scatter(y_test_1d, y_pred_1d, alpha=0.5)\n",
    "plt.plot([y_test_1d.min(), y_test_1d.max()], [y_test_1d.min(), y_test_1d.max()], 'k--', lw=2)\n",
    "plt.xlabel('Actual')\n",
    "plt.ylabel('Predicted')\n",
    "plt.title('Actual vs Predicted Scatter')\n",
    "plt.grid(True)\n",
    "plt.show()\n",
    "\n",
    "# 5. Residuals Over Time\n",
    "plt.figure(figsize=(12,6))\n",
    "plt.plot(test_dates, errors, marker='o', linestyle='-', color='orange')\n",
    "plt.axhline(0, color='black', linestyle='--')\n",
    "plt.title('Residuals Over Time')\n",
    "plt.xlabel('Week')\n",
    "plt.ylabel('Residual (Predicted - Actual)')\n",
    "plt.grid(True)\n",
    "plt.show()\n",
    "\n",
    "# 6. Rolling Mean of Errors\n",
    "window = 8\n",
    "rolling_error = pd.Series(errors).rolling(window=window).mean()\n",
    "plt.figure(figsize=(12,6))\n",
    "plt.plot(test_dates, rolling_error, color='purple')\n",
    "plt.title(f'Rolling Mean of Errors (window={window})')\n",
    "plt.xlabel('Week')\n",
    "plt.ylabel('Rolling Mean Error')\n",
    "plt.grid(True)\n",
    "plt.show()\n",
    "\n",
    "# 7. Cumulative Error\n",
    "cumulative_error = np.cumsum(errors)\n",
    "plt.figure(figsize=(12,6))\n",
    "plt.plot(test_dates, cumulative_error, color='teal')\n",
    "plt.title('Cumulative Forecast Error')\n",
    "plt.xlabel('Week')\n",
    "plt.ylabel('Cumulative Error')\n",
    "plt.grid(True)\n",
    "plt.show()"
   ]
  },
  {
   "cell_type": "markdown",
   "id": "023d1496",
   "metadata": {},
   "source": [
    "## Salvar Resultados\n",
    "\n",
    "Salve as previsões e métricas para comparação posterior."
   ]
  },
  {
   "cell_type": "code",
   "execution_count": null,
   "id": "a320ee72",
   "metadata": {},
   "outputs": [],
   "source": [
    "# Salvar previsões\n",
    "preds_file = save_predictions(\n",
    "    y_true=y_test_1d,\n",
    "    y_pred=y_pred_1d,\n",
    "    dates=test_dates,\n",
    "    city_name='all',\n",
    "    model_name='gru_simple',\n",
    "    output_dir=results_dir\n",
    ")\n",
    "print(f\"Previsões salvas em: {preds_file}\")\n",
    "\n",
    "# Salvar métricas\n",
    "metrics_file = save_metrics(\n",
    "    metrics=metrics,\n",
    "    city_name='all',\n",
    "    model_name='gru_simple',\n",
    "    output_dir=results_dir,\n",
    "    params=model_params\n",
    ")\n",
    "print(f\"Métricas salvas em: {metrics_file}\")"
   ]
  },
  {
   "cell_type": "markdown",
   "id": "4b8101ae",
   "metadata": {},
   "source": [
    "## Conclusão\n",
    "\n",
    "O modelo GRU simples serve como baseline neural para previsão de morbidade respiratória semanal, com menos parâmetros que o LSTM. Compare seu desempenho com outros modelos nos próximos notebooks."
   ]
  }
 ],
 "metadata": {
  "kernelspec": {
   "display_name": ".conda",
   "language": "python",
   "name": "python3"
  },
  "language_info": {
   "codemirror_mode": {
    "name": "ipython",
    "version": 3
   },
   "file_extension": ".py",
   "mimetype": "text/x-python",
   "name": "python",
   "nbconvert_exporter": "python",
   "pygments_lexer": "ipython3",
   "version": "3.10.16"
  }
 },
 "nbformat": 4,
 "nbformat_minor": 5
}
