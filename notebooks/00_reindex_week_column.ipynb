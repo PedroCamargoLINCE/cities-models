{
 "cells": [
  {
   "cell_type": "markdown",
   "id": "b019b871",
   "metadata": {},
   "source": [
    "# Reindex 'week' Column as Sequential Counter per City\n",
    "\n",
    "This notebook will overwrite the 'week' column in each CSV in the `../data/` directory so that, for each city (`CD_MUN`), the weeks are simply numbered 1, 2, 3, ... up to the number of rows for that city. The original year/week information will be discarded."
   ]
  },
  {
   "cell_type": "code",
   "execution_count": 1,
   "id": "7a10db89",
   "metadata": {},
   "outputs": [
    {
     "name": "stdout",
     "output_type": "stream",
     "text": [
      "Found 12 CSV files.\n"
     ]
    }
   ],
   "source": [
    "import pandas as pd\n",
    "import glob\n",
    "import os\n",
    "\n",
    "data_dir = '../data/'\n",
    "csv_files = glob.glob(os.path.join(data_dir, '*.csv'))\n",
    "print(f\"Found {len(csv_files)} CSV files.\")"
   ]
  },
  {
   "cell_type": "code",
   "execution_count": 2,
   "id": "0aa74447",
   "metadata": {},
   "outputs": [
    {
     "name": "stdout",
     "output_type": "stream",
     "text": [
      "Processing df_base_morb_circ.csv ...\n",
      "  Example for city 1100015: [1, 2, 3, 4, 5, 6, 7, 8, 9, 10]\n",
      "  Example for city 1100015: [1, 2, 3, 4, 5, 6, 7, 8, 9, 10]\n",
      "  Overwritten: df_base_morb_circ.csv\n",
      "Processing df_base_morb_dengue.csv ...\n",
      "  Overwritten: df_base_morb_circ.csv\n",
      "Processing df_base_morb_dengue.csv ...\n",
      "  Example for city 1100015: [1, 2, 3, 4, 5, 6, 7, 8, 9, 10]\n",
      "  Example for city 1100015: [1, 2, 3, 4, 5, 6, 7, 8, 9, 10]\n",
      "  Overwritten: df_base_morb_dengue.csv\n",
      "Processing df_base_morb_febA.csv ...\n",
      "  Overwritten: df_base_morb_dengue.csv\n",
      "Processing df_base_morb_febA.csv ...\n",
      "  Example for city 1100015: [1, 2, 3, 4, 5, 6, 7, 8, 9, 10]\n",
      "  Example for city 1100015: [1, 2, 3, 4, 5, 6, 7, 8, 9, 10]\n",
      "  Overwritten: df_base_morb_febA.csv\n",
      "Processing df_base_morb_leish.csv ...\n",
      "  Overwritten: df_base_morb_febA.csv\n",
      "Processing df_base_morb_leish.csv ...\n",
      "  Example for city 1100015: [1, 2, 3, 4, 5, 6, 7, 8, 9, 10]\n",
      "  Example for city 1100015: [1, 2, 3, 4, 5, 6, 7, 8, 9, 10]\n",
      "  Overwritten: df_base_morb_leish.csv\n",
      "Processing df_base_morb_malaria.csv ...\n",
      "  Overwritten: df_base_morb_leish.csv\n",
      "Processing df_base_morb_malaria.csv ...\n",
      "  Example for city 1100015: [1, 2, 3, 4, 5, 6, 7, 8, 9, 10]\n",
      "  Example for city 1100015: [1, 2, 3, 4, 5, 6, 7, 8, 9, 10]\n",
      "  Overwritten: df_base_morb_malaria.csv\n",
      "Processing df_base_morb_resp.csv ...\n",
      "  Overwritten: df_base_morb_malaria.csv\n",
      "Processing df_base_morb_resp.csv ...\n",
      "  Example for city 1100015: [1, 2, 3, 4, 5, 6, 7, 8, 9, 10]\n",
      "  Example for city 1100015: [1, 2, 3, 4, 5, 6, 7, 8, 9, 10]\n",
      "  Overwritten: df_base_morb_resp.csv\n",
      "Processing df_base_mort_circ.csv ...\n",
      "  Overwritten: df_base_morb_resp.csv\n",
      "Processing df_base_mort_circ.csv ...\n",
      "  Example for city 1100015: [1, 2, 3, 4, 5, 6, 7, 8, 9, 10]\n",
      "  Example for city 1100015: [1, 2, 3, 4, 5, 6, 7, 8, 9, 10]\n",
      "  Overwritten: df_base_mort_circ.csv\n",
      "Processing df_base_mort_dengue.csv ...\n",
      "  Overwritten: df_base_mort_circ.csv\n",
      "Processing df_base_mort_dengue.csv ...\n",
      "  Example for city 1100015: [1, 2, 3, 4, 5, 6, 7, 8, 9, 10]\n",
      "  Example for city 1100015: [1, 2, 3, 4, 5, 6, 7, 8, 9, 10]\n",
      "  Overwritten: df_base_mort_dengue.csv\n",
      "Processing df_base_mort_febA.csv ...\n",
      "  Overwritten: df_base_mort_dengue.csv\n",
      "Processing df_base_mort_febA.csv ...\n",
      "  Example for city 1100015: [1, 2, 3, 4, 5, 6, 7, 8, 9, 10]\n",
      "  Example for city 1100015: [1, 2, 3, 4, 5, 6, 7, 8, 9, 10]\n",
      "  Overwritten: df_base_mort_febA.csv\n",
      "Processing df_base_mort_leish.csv ...\n",
      "  Overwritten: df_base_mort_febA.csv\n",
      "Processing df_base_mort_leish.csv ...\n",
      "  Example for city 1100015: [1, 2, 3, 4, 5, 6, 7, 8, 9, 10]\n",
      "  Example for city 1100015: [1, 2, 3, 4, 5, 6, 7, 8, 9, 10]\n",
      "  Overwritten: df_base_mort_leish.csv\n",
      "Processing df_base_mort_malaria.csv ...\n",
      "  Overwritten: df_base_mort_leish.csv\n",
      "Processing df_base_mort_malaria.csv ...\n",
      "  Example for city 1100015: [1, 2, 3, 4, 5, 6, 7, 8, 9, 10]\n",
      "  Example for city 1100015: [1, 2, 3, 4, 5, 6, 7, 8, 9, 10]\n",
      "  Overwritten: df_base_mort_malaria.csv\n",
      "Processing df_base_mort_resp.csv ...\n",
      "  Overwritten: df_base_mort_malaria.csv\n",
      "Processing df_base_mort_resp.csv ...\n",
      "  Example for city 1100015: [1, 2, 3, 4, 5, 6, 7, 8, 9, 10]\n",
      "  Example for city 1100015: [1, 2, 3, 4, 5, 6, 7, 8, 9, 10]\n",
      "  Overwritten: df_base_mort_resp.csv\n",
      "  Overwritten: df_base_mort_resp.csv\n"
     ]
    }
   ],
   "source": [
    "for file_path in csv_files:\n",
    "    file_name = os.path.basename(file_path)\n",
    "    print(f\"Processing {file_name} ...\")\n",
    "    df = pd.read_csv(file_path)\n",
    "    if 'CD_MUN' not in df.columns:\n",
    "        print(f\"  Skipped: 'CD_MUN' column not found.\")\n",
    "        continue\n",
    "    # Sort by city and original week (if present) for reproducibility\n",
    "    sort_cols = ['CD_MUN']\n",
    "    if 'week' in df.columns:\n",
    "        sort_cols.append('week')\n",
    "    df = df.sort_values(sort_cols).reset_index(drop=True)\n",
    "    # Assign new sequential week index per city\n",
    "    df['week'] = df.groupby('CD_MUN').cumcount() + 1\n",
    "    print(f\"  Example for city {df['CD_MUN'].iloc[0]}: {df[df['CD_MUN'] == df['CD_MUN'].iloc[0]]['week'].head(10).tolist()}\")\n",
    "    # Overwrite the file\n",
    "    df.to_csv(file_path, index=False)\n",
    "    print(f\"  Overwritten: {file_name}\")"
   ]
  },
  {
   "cell_type": "markdown",
   "id": "0317a07d",
   "metadata": {},
   "source": [
    "All files have been processed. The 'week' column is now a simple integer counter per city, starting at 1 for each city, and the changes have overwritten the original files in the `data/` directory."
   ]
  }
 ],
 "metadata": {
  "kernelspec": {
   "display_name": ".conda",
   "language": "python",
   "name": "python3"
  },
  "language_info": {
   "codemirror_mode": {
    "name": "ipython",
    "version": 3
   },
   "file_extension": ".py",
   "mimetype": "text/x-python",
   "name": "python",
   "nbconvert_exporter": "python",
   "pygments_lexer": "ipython3",
   "version": "3.10.16"
  }
 },
 "nbformat": 4,
 "nbformat_minor": 5
}
