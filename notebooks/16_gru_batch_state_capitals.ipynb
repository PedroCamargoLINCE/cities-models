{
 "cells": [
  {
   "cell_type": "markdown",
   "id": "b386ba30",
   "metadata": {},
   "source": [
    "# Treinamento em Lote de Modelos GRU para Capitais Estaduais\n",
    "\n",
    "Este notebook estende a arquitetura do modelo GRU simples para treinar um modelo de previsão de morbidade circulatória para cada capital de estado no Brasil.\n",
    "\n",
    "O fluxo de trabalho é projetado para ser totalmente automatizado e modular:\n",
    "\n",
    "1.  **Configuração Centralizada:** Uma lista de códigos de município (CD_MUN) para as capitais é definida, juntamente com todos os outros parâmetros do modelo e do treinamento.\n",
    "2.  **Loop de Treinamento em Lote:** O notebook itera sobre cada capital. Em cada iteração, ele executa o pipeline completo:\n",
    "    *   **Carregamento e Filtragem:** Carrega o conjunto de dados completo e filtra os dados para a capital atual.\n",
    "    *   **Pré-processamento:** Converte a coluna de data, define o índice e limpa a série temporal.\n",
    "    *   **Preparação dos Dados:** Utiliza `prepare_data_for_model` para criar os conjuntos de treinamento, validação e teste, juntamente com o scaler.\n",
    "    *   **Construção e Treinamento:** Constrói e treina um novo modelo GRU do zero para a cidade.\n",
    "    *   **Avaliação:** Avalia o modelo treinado nos dados de teste.\n",
    "    *   **Visualização e Salvamento:** Gera as mesmas visualizações detalhadas (previsão combinada de validação/teste e gráfico de dispersão) que no notebook anterior e salva todos os resultados (métricas, previsões e gráficos) em um subdiretório específico para a execução.\n",
    "\n",
    "O objetivo é criar um sistema robusto que possa ser executado para gerar e salvar sistematicamente os resultados de previsão para várias cidades, mantendo a organização e a reprodutibilidade."
   ]
  },
  {
   "cell_type": "code",
   "execution_count": 1,
   "id": "95885d23",
   "metadata": {},
   "outputs": [
    {
     "name": "stderr",
     "output_type": "stream",
     "text": [
      "2025-06-24 21:54:29,796 - INFO - Adicionado c:\\Users\\pedro\\OneDrive - Unesp\\Documentos\\GitHub\\cities-models\\cities-models ao sys.path\n",
      "2025-06-24 21:54:30,035 - INFO - Módulos importados e configuração inicial completa.\n",
      "2025-06-24 21:54:30,035 - INFO - Módulos importados e configuração inicial completa.\n"
     ]
    }
   ],
   "source": [
    "import sys\n",
    "import os\n",
    "import numpy as np\n",
    "import pandas as pd\n",
    "import matplotlib.pyplot as plt\n",
    "import tensorflow as tf\n",
    "import logging\n",
    "\n",
    "# --- Configuração do Logging ---\n",
    "logging.basicConfig(level=logging.INFO, format='%(asctime)s - %(levelname)s - %(message)s')\n",
    "\n",
    "# --- Adicionar o Diretório Raiz ao sys.path ---\n",
    "project_root = os.path.abspath(os.path.join(os.getcwd(), '..'))\n",
    "if project_root not in sys.path:\n",
    "    sys.path.insert(0, project_root)\n",
    "    logging.info(f\"Adicionado {project_root} ao sys.path\")\n",
    "\n",
    "# --- Importar Módulos Customizados ---\n",
    "from src.preprocessing import load_city_data, prepare_data_for_model, filter_city, clean_timeseries\n",
    "from src.models import build_gru\n",
    "from src.train import train_model, evaluate_model, save_metrics, save_predictions\n",
    "from src.utils import plot_training_history, plot_actual_vs_predicted_scatter\n",
    "\n",
    "# --- Sementes para Reprodutibilidade ---\n",
    "np.random.seed(42)\n",
    "tf.random.set_seed(42)\n",
    "\n",
    "logging.info(\"Módulos importados e configuração inicial completa.\")"
   ]
  },
  {
   "cell_type": "code",
   "execution_count": 2,
   "id": "70440cdf",
   "metadata": {},
   "outputs": [
    {
     "name": "stderr",
     "output_type": "stream",
     "text": [
      "2025-06-24 21:54:30,047 - INFO - --- Configuração do Experimento em Lote ---\n",
      "2025-06-24 21:54:30,048 - INFO - Execução: gru_batch_state_capitals_morb_circ\n",
      "2025-06-24 21:54:30,049 - INFO - Total de cidades a serem processadas: 27\n",
      "2025-06-24 21:54:30,050 - INFO - Resultados serão salvos em: results\\gru_batch_state_capitals_morb_circ\n",
      "2025-06-24 21:54:30,051 - INFO - ----------------------------------------\n",
      "2025-06-24 21:54:30,048 - INFO - Execução: gru_batch_state_capitals_morb_circ\n",
      "2025-06-24 21:54:30,049 - INFO - Total de cidades a serem processadas: 27\n",
      "2025-06-24 21:54:30,050 - INFO - Resultados serão salvos em: results\\gru_batch_state_capitals_morb_circ\n",
      "2025-06-24 21:54:30,051 - INFO - ----------------------------------------\n"
     ]
    }
   ],
   "source": [
    "# =============================================================================\n",
    "# Célula de Configuração do Lote\n",
    "# =============================================================================\n",
    "\n",
    "# --- Lista de Capitais Estaduais (CD_MUN e Nomes) ---\n",
    "STATE_CAPITALS = {\n",
    "    1100205: \"Porto_Velho\", 1200401: \"Rio_Branco\", 1302603: \"Manaus\", 1400100: \"Boa_Vista\",\n",
    "    1501402: \"Belem\", 1600303: \"Macapa\", 1721000: \"Palmas\", 2111300: \"Sao_Luis\",\n",
    "    2211001: \"Teresina\", 2304400: \"Fortaleza\", 2408102: \"Natal\", 2507507: \"Joao_Pessoa\",\n",
    "    2611606: \"Recife\", 2704302: \"Maceio\", 2800308: \"Aracaju\", 2927408: \"Salvador\",\n",
    "    3106200: \"Belo_Horizonte\", 3205309: \"Vitoria\", 3304557: \"Rio_de_Janeiro\",\n",
    "    3550308: \"Sao_Paulo\", 4106902: \"Curitiba\", 4205407: \"Florianopolis\",\n",
    "    4314902: \"Porto_Alegre\", 5002704: \"Campo_Grande\", 5103403: \"Cuiaba\",\n",
    "    5208707: \"Goiania\", 5300108: \"Brasilia\"\n",
    "}\n",
    "\n",
    "# --- Seleção dos Dados ---\n",
    "TARGET_COLUMN = 'target'\n",
    "FEATURE_COLUMNS = ['target']\n",
    "\n",
    "# --- Divisão dos Dados ---\n",
    "TEST_SIZE = 52\n",
    "VAL_SIZE = 52\n",
    "\n",
    "# --- Parâmetros do Modelo ---\n",
    "SEQUENCE_LENGTH = 12\n",
    "FORECAST_HORIZON = 1\n",
    "\n",
    "# --- Parâmetros de Treinamento ---\n",
    "EPOCHS = 200\n",
    "BATCH_SIZE = 32\n",
    "PATIENCE = 15\n",
    "\n",
    "# --- Arquitetura do Modelo ---\n",
    "GRU_UNITS = 32\n",
    "LOSS_FUNCTION = 'mae'\n",
    "\n",
    "# --- Caminhos ---\n",
    "DATA_PATH = '../data/df_base_morb_circ.csv'\n",
    "RUN_NAME = \"gru_batch_state_capitals_morb_circ\"\n",
    "RESULTS_DIR = os.path.join('results', RUN_NAME)\n",
    "os.makedirs(RESULTS_DIR, exist_ok=True)\n",
    "\n",
    "# --- Configuração do Log de Execução ---\n",
    "log_file_path = os.path.join(RESULTS_DIR, 'execution_log.txt')\n",
    "file_handler = logging.FileHandler(log_file_path, mode='w')\n",
    "file_handler.setFormatter(logging.Formatter('%(asctime)s - %(levelname)s - %(message)s'))\n",
    "logging.getLogger().addHandler(file_handler)\n",
    "\n",
    "logging.info(\"--- Configuração do Experimento em Lote ---\")\n",
    "logging.info(f\"Execução: {RUN_NAME}\")\n",
    "logging.info(f\"Total de cidades a serem processadas: {len(STATE_CAPITALS)}\")\n",
    "logging.info(f\"Resultados serão salvos em: {RESULTS_DIR}\")\n",
    "logging.info(\"-\" * 40)"
   ]
  },
  {
   "cell_type": "code",
   "execution_count": 3,
   "id": "3a50f6d1",
   "metadata": {},
   "outputs": [
    {
     "name": "stderr",
     "output_type": "stream",
     "text": [
      "2025-06-24 21:55:19,788 - INFO - Dataset completo carregado com sucesso: (6344064, 11)\n",
      "2025-06-24 21:55:19,790 - INFO - ===== Iniciando processamento para Porto_Velho (1100205) =====\n",
      "2025-06-24 21:55:19,790 - INFO - ===== Iniciando processamento para Porto_Velho (1100205) =====\n",
      "2025-06-24 21:55:19,815 - INFO - Dados para Porto_Velho filtrados e limpos: (1152, 10)\n",
      "2025-06-24 21:55:19,827 - INFO - Dados preparados para o modelo. Treino: (1036, 12, 1), Validação: (40, 12, 1), Teste: (40, 12, 1)\n",
      "2025-06-24 21:55:19,815 - INFO - Dados para Porto_Velho filtrados e limpos: (1152, 10)\n",
      "2025-06-24 21:55:19,827 - INFO - Dados preparados para o modelo. Treino: (1036, 12, 1), Validação: (40, 12, 1), Teste: (40, 12, 1)\n"
     ]
    },
    {
     "name": "stdout",
     "output_type": "stream",
     "text": [
      "WARNING:tensorflow:From c:\\Users\\pedro\\OneDrive - Unesp\\Documentos\\GitHub\\treinamento_clusters_hpc\\.conda\\lib\\site-packages\\keras\\src\\backend\\common\\global_state.py:82: The name tf.reset_default_graph is deprecated. Please use tf.compat.v1.reset_default_graph instead.\n",
      "\n"
     ]
    },
    {
     "name": "stderr",
     "output_type": "stream",
     "text": [
      "2025-06-24 21:56:59,521 - WARNING - From c:\\Users\\pedro\\OneDrive - Unesp\\Documentos\\GitHub\\treinamento_clusters_hpc\\.conda\\lib\\site-packages\\keras\\src\\backend\\common\\global_state.py:82: The name tf.reset_default_graph is deprecated. Please use tf.compat.v1.reset_default_graph instead.\n",
      "\n",
      "2025-06-24 21:57:13,483 - INFO - Modelo treinado para Porto_Velho. Perda final de validação: 0.1035\n",
      "2025-06-24 21:57:13,483 - INFO - Modelo treinado para Porto_Velho. Perda final de validação: 0.1035\n"
     ]
    },
    {
     "name": "stdout",
     "output_type": "stream",
     "text": [
      "\u001b[1m2/2\u001b[0m \u001b[32m━━━━━━━━━━━━━━━━━━━━\u001b[0m\u001b[37m\u001b[0m \u001b[1m0s\u001b[0m 105ms/step\n",
      "\u001b[1m2/2\u001b[0m \u001b[32m━━━━━━━━━━━━━━━━━━━━\u001b[0m\u001b[37m\u001b[0m \u001b[1m0s\u001b[0m 105ms/step\n"
     ]
    },
    {
     "name": "stderr",
     "output_type": "stream",
     "text": [
      "2025-06-24 21:57:13,724 - INFO - Métricas de teste para Porto_Velho: MAE=0.7232, RMSE=0.9870, R²=0.3304\n"
     ]
    },
    {
     "name": "stdout",
     "output_type": "stream",
     "text": [
      "\u001b[1m2/2\u001b[0m \u001b[32m━━━━━━━━━━━━━━━━━━━━\u001b[0m\u001b[37m\u001b[0m \u001b[1m0s\u001b[0m 13ms/step\n",
      "\u001b[1m2/2\u001b[0m \u001b[32m━━━━━━━━━━━━━━━━━━━━\u001b[0m\u001b[37m\u001b[0m \u001b[1m0s\u001b[0m 13ms/step\n"
     ]
    },
    {
     "name": "stderr",
     "output_type": "stream",
     "text": [
      "2025-06-24 21:57:14,294 - INFO - Gráficos salvos para Porto_Velho\n",
      "2025-06-24 21:57:14,302 - INFO - Métricas e previsões salvas para Porto_Velho\n",
      "2025-06-24 21:57:14,303 - INFO - ===== Processamento para Porto_Velho concluído =====\n",
      "\n",
      "2025-06-24 21:57:14,304 - INFO - ===== Iniciando processamento para Rio_Branco (1200401) =====\n",
      "2025-06-24 21:57:14,315 - INFO - Dados para Rio_Branco filtrados e limpos: (1152, 10)\n",
      "2025-06-24 21:57:14,302 - INFO - Métricas e previsões salvas para Porto_Velho\n",
      "2025-06-24 21:57:14,303 - INFO - ===== Processamento para Porto_Velho concluído =====\n",
      "\n",
      "2025-06-24 21:57:14,304 - INFO - ===== Iniciando processamento para Rio_Branco (1200401) =====\n",
      "2025-06-24 21:57:14,315 - INFO - Dados para Rio_Branco filtrados e limpos: (1152, 10)\n",
      "2025-06-24 21:57:14,322 - INFO - Dados preparados para o modelo. Treino: (1036, 12, 1), Validação: (40, 12, 1), Teste: (40, 12, 1)\n",
      "2025-06-24 21:57:14,322 - INFO - Dados preparados para o modelo. Treino: (1036, 12, 1), Validação: (40, 12, 1), Teste: (40, 12, 1)\n",
      "2025-06-24 21:57:28,514 - INFO - Modelo treinado para Rio_Branco. Perda final de validação: 0.2591\n",
      "2025-06-24 21:57:28,514 - INFO - Modelo treinado para Rio_Branco. Perda final de validação: 0.2591\n"
     ]
    },
    {
     "name": "stdout",
     "output_type": "stream",
     "text": [
      "\u001b[1m2/2\u001b[0m \u001b[32m━━━━━━━━━━━━━━━━━━━━\u001b[0m\u001b[37m\u001b[0m \u001b[1m0s\u001b[0m 128ms/step\n",
      "\u001b[1m2/2\u001b[0m \u001b[32m━━━━━━━━━━━━━━━━━━━━\u001b[0m\u001b[37m\u001b[0m \u001b[1m0s\u001b[0m 128ms/step\n"
     ]
    },
    {
     "name": "stderr",
     "output_type": "stream",
     "text": [
      "2025-06-24 21:57:28,778 - INFO - Métricas de teste para Rio_Branco: MAE=0.4941, RMSE=0.6011, R²=0.5932\n"
     ]
    },
    {
     "name": "stdout",
     "output_type": "stream",
     "text": [
      "\u001b[1m2/2\u001b[0m \u001b[32m━━━━━━━━━━━━━━━━━━━━\u001b[0m\u001b[37m\u001b[0m \u001b[1m0s\u001b[0m 12ms/step\n",
      "\u001b[1m2/2\u001b[0m \u001b[32m━━━━━━━━━━━━━━━━━━━━\u001b[0m\u001b[37m\u001b[0m \u001b[1m0s\u001b[0m 12ms/step\n"
     ]
    },
    {
     "name": "stderr",
     "output_type": "stream",
     "text": [
      "2025-06-24 21:57:29,292 - INFO - Gráficos salvos para Rio_Branco\n",
      "2025-06-24 21:57:29,296 - INFO - Métricas e previsões salvas para Rio_Branco\n",
      "2025-06-24 21:57:29,296 - INFO - ===== Processamento para Rio_Branco concluído =====\n",
      "\n",
      "2025-06-24 21:57:29,297 - INFO - ===== Iniciando processamento para Manaus (1302603) =====\n",
      "2025-06-24 21:57:29,305 - INFO - Dados para Manaus filtrados e limpos: (1152, 10)\n",
      "2025-06-24 21:57:29,296 - INFO - Métricas e previsões salvas para Rio_Branco\n",
      "2025-06-24 21:57:29,296 - INFO - ===== Processamento para Rio_Branco concluído =====\n",
      "\n",
      "2025-06-24 21:57:29,297 - INFO - ===== Iniciando processamento para Manaus (1302603) =====\n",
      "2025-06-24 21:57:29,305 - INFO - Dados para Manaus filtrados e limpos: (1152, 10)\n",
      "2025-06-24 21:57:29,312 - INFO - Dados preparados para o modelo. Treino: (1036, 12, 1), Validação: (40, 12, 1), Teste: (40, 12, 1)\n",
      "2025-06-24 21:57:29,312 - INFO - Dados preparados para o modelo. Treino: (1036, 12, 1), Validação: (40, 12, 1), Teste: (40, 12, 1)\n",
      "2025-06-24 21:57:40,197 - INFO - Modelo treinado para Manaus. Perda final de validação: 0.1075\n",
      "2025-06-24 21:57:40,197 - INFO - Modelo treinado para Manaus. Perda final de validação: 0.1075\n"
     ]
    },
    {
     "name": "stdout",
     "output_type": "stream",
     "text": [
      "WARNING:tensorflow:5 out of the last 9 calls to <function TensorFlowTrainer.make_predict_function.<locals>.one_step_on_data_distributed at 0x000002478A42D2D0> triggered tf.function retracing. Tracing is expensive and the excessive number of tracings could be due to (1) creating @tf.function repeatedly in a loop, (2) passing tensors with different shapes, (3) passing Python objects instead of tensors. For (1), please define your @tf.function outside of the loop. For (2), @tf.function has reduce_retracing=True option that can avoid unnecessary retracing. For (3), please refer to https://www.tensorflow.org/guide/function#controlling_retracing and https://www.tensorflow.org/api_docs/python/tf/function for  more details.\n"
     ]
    },
    {
     "name": "stderr",
     "output_type": "stream",
     "text": [
      "2025-06-24 21:57:40,317 - WARNING - 5 out of the last 9 calls to <function TensorFlowTrainer.make_predict_function.<locals>.one_step_on_data_distributed at 0x000002478A42D2D0> triggered tf.function retracing. Tracing is expensive and the excessive number of tracings could be due to (1) creating @tf.function repeatedly in a loop, (2) passing tensors with different shapes, (3) passing Python objects instead of tensors. For (1), please define your @tf.function outside of the loop. For (2), @tf.function has reduce_retracing=True option that can avoid unnecessary retracing. For (3), please refer to https://www.tensorflow.org/guide/function#controlling_retracing and https://www.tensorflow.org/api_docs/python/tf/function for  more details.\n"
     ]
    },
    {
     "name": "stdout",
     "output_type": "stream",
     "text": [
      "\u001b[1m1/2\u001b[0m \u001b[32m━━━━━━━━━━\u001b[0m\u001b[37m━━━━━━━━━━\u001b[0m \u001b[1m0s\u001b[0m 100ms/stepWARNING:tensorflow:6 out of the last 10 calls to <function TensorFlowTrainer.make_predict_function.<locals>.one_step_on_data_distributed at 0x000002478A42D2D0> triggered tf.function retracing. Tracing is expensive and the excessive number of tracings could be due to (1) creating @tf.function repeatedly in a loop, (2) passing tensors with different shapes, (3) passing Python objects instead of tensors. For (1), please define your @tf.function outside of the loop. For (2), @tf.function has reduce_retracing=True option that can avoid unnecessary retracing. For (3), please refer to https://www.tensorflow.org/guide/function#controlling_retracing and https://www.tensorflow.org/api_docs/python/tf/function for  more details.\n",
      "WARNING:tensorflow:6 out of the last 10 calls to <function TensorFlowTrainer.make_predict_function.<locals>.one_step_on_data_distributed at 0x000002478A42D2D0> triggered tf.function retracing. Tracing is expensive and the excessive number of tracings could be due to (1) creating @tf.function repeatedly in a loop, (2) passing tensors with different shapes, (3) passing Python objects instead of tensors. For (1), please define your @tf.function outside of the loop. For (2), @tf.function has reduce_retracing=True option that can avoid unnecessary retracing. For (3), please refer to https://www.tensorflow.org/guide/function#controlling_retracing and https://www.tensorflow.org/api_docs/python/tf/function for  more details.\n"
     ]
    },
    {
     "name": "stderr",
     "output_type": "stream",
     "text": [
      "2025-06-24 21:57:40,434 - WARNING - 6 out of the last 10 calls to <function TensorFlowTrainer.make_predict_function.<locals>.one_step_on_data_distributed at 0x000002478A42D2D0> triggered tf.function retracing. Tracing is expensive and the excessive number of tracings could be due to (1) creating @tf.function repeatedly in a loop, (2) passing tensors with different shapes, (3) passing Python objects instead of tensors. For (1), please define your @tf.function outside of the loop. For (2), @tf.function has reduce_retracing=True option that can avoid unnecessary retracing. For (3), please refer to https://www.tensorflow.org/guide/function#controlling_retracing and https://www.tensorflow.org/api_docs/python/tf/function for  more details.\n"
     ]
    },
    {
     "name": "stdout",
     "output_type": "stream",
     "text": [
      "\u001b[1m2/2\u001b[0m \u001b[32m━━━━━━━━━━━━━━━━━━━━\u001b[0m\u001b[37m\u001b[0m \u001b[1m0s\u001b[0m 129ms/step\n",
      "\u001b[1m2/2\u001b[0m \u001b[32m━━━━━━━━━━━━━━━━━━━━\u001b[0m\u001b[37m\u001b[0m \u001b[1m0s\u001b[0m 129ms/step\n"
     ]
    },
    {
     "name": "stderr",
     "output_type": "stream",
     "text": [
      "2025-06-24 21:57:40,464 - INFO - Métricas de teste para Manaus: MAE=0.3507, RMSE=0.4925, R²=-0.4553\n"
     ]
    },
    {
     "name": "stdout",
     "output_type": "stream",
     "text": [
      "\u001b[1m2/2\u001b[0m \u001b[32m━━━━━━━━━━━━━━━━━━━━\u001b[0m\u001b[37m\u001b[0m \u001b[1m0s\u001b[0m 15ms/step\n",
      "\u001b[1m2/2\u001b[0m \u001b[32m━━━━━━━━━━━━━━━━━━━━\u001b[0m\u001b[37m\u001b[0m \u001b[1m0s\u001b[0m 15ms/step\n"
     ]
    },
    {
     "name": "stderr",
     "output_type": "stream",
     "text": [
      "2025-06-24 21:57:40,999 - INFO - Gráficos salvos para Manaus\n",
      "2025-06-24 21:57:41,004 - INFO - Métricas e previsões salvas para Manaus\n",
      "2025-06-24 21:57:41,005 - INFO - ===== Processamento para Manaus concluído =====\n",
      "\n",
      "2025-06-24 21:57:41,005 - INFO - ===== Iniciando processamento para Boa_Vista (1400100) =====\n",
      "2025-06-24 21:57:41,015 - INFO - Dados para Boa_Vista filtrados e limpos: (1152, 10)\n",
      "2025-06-24 21:57:41,004 - INFO - Métricas e previsões salvas para Manaus\n",
      "2025-06-24 21:57:41,005 - INFO - ===== Processamento para Manaus concluído =====\n",
      "\n",
      "2025-06-24 21:57:41,005 - INFO - ===== Iniciando processamento para Boa_Vista (1400100) =====\n",
      "2025-06-24 21:57:41,015 - INFO - Dados para Boa_Vista filtrados e limpos: (1152, 10)\n",
      "2025-06-24 21:57:41,022 - INFO - Dados preparados para o modelo. Treino: (1036, 12, 1), Validação: (40, 12, 1), Teste: (40, 12, 1)\n",
      "2025-06-24 21:57:41,022 - INFO - Dados preparados para o modelo. Treino: (1036, 12, 1), Validação: (40, 12, 1), Teste: (40, 12, 1)\n",
      "2025-06-24 21:57:52,706 - INFO - Modelo treinado para Boa_Vista. Perda final de validação: 0.1270\n",
      "2025-06-24 21:57:52,706 - INFO - Modelo treinado para Boa_Vista. Perda final de validação: 0.1270\n"
     ]
    },
    {
     "name": "stdout",
     "output_type": "stream",
     "text": [
      "\u001b[1m2/2\u001b[0m \u001b[32m━━━━━━━━━━━━━━━━━━━━\u001b[0m\u001b[37m\u001b[0m \u001b[1m0s\u001b[0m 132ms/step\n",
      "\u001b[1m2/2\u001b[0m \u001b[32m━━━━━━━━━━━━━━━━━━━━\u001b[0m\u001b[37m\u001b[0m \u001b[1m0s\u001b[0m 132ms/step\n"
     ]
    },
    {
     "name": "stderr",
     "output_type": "stream",
     "text": [
      "2025-06-24 21:57:52,975 - INFO - Métricas de teste para Boa_Vista: MAE=1.5811, RMSE=2.7103, R²=0.4264\n"
     ]
    },
    {
     "name": "stdout",
     "output_type": "stream",
     "text": [
      "\u001b[1m2/2\u001b[0m \u001b[32m━━━━━━━━━━━━━━━━━━━━\u001b[0m\u001b[37m\u001b[0m \u001b[1m0s\u001b[0m 14ms/step\n",
      "\u001b[1m2/2\u001b[0m \u001b[32m━━━━━━━━━━━━━━━━━━━━\u001b[0m\u001b[37m\u001b[0m \u001b[1m0s\u001b[0m 14ms/step\n"
     ]
    },
    {
     "name": "stderr",
     "output_type": "stream",
     "text": [
      "2025-06-24 21:57:53,559 - INFO - Gráficos salvos para Boa_Vista\n",
      "2025-06-24 21:57:53,564 - INFO - Métricas e previsões salvas para Boa_Vista\n",
      "2025-06-24 21:57:53,564 - INFO - ===== Processamento para Boa_Vista concluído =====\n",
      "\n",
      "2025-06-24 21:57:53,565 - INFO - ===== Iniciando processamento para Belem (1501402) =====\n",
      "2025-06-24 21:57:53,573 - INFO - Dados para Belem filtrados e limpos: (1152, 10)\n",
      "2025-06-24 21:57:53,564 - INFO - Métricas e previsões salvas para Boa_Vista\n",
      "2025-06-24 21:57:53,564 - INFO - ===== Processamento para Boa_Vista concluído =====\n",
      "\n",
      "2025-06-24 21:57:53,565 - INFO - ===== Iniciando processamento para Belem (1501402) =====\n",
      "2025-06-24 21:57:53,573 - INFO - Dados para Belem filtrados e limpos: (1152, 10)\n",
      "2025-06-24 21:57:53,581 - INFO - Dados preparados para o modelo. Treino: (1036, 12, 1), Validação: (40, 12, 1), Teste: (40, 12, 1)\n",
      "2025-06-24 21:57:53,581 - INFO - Dados preparados para o modelo. Treino: (1036, 12, 1), Validação: (40, 12, 1), Teste: (40, 12, 1)\n",
      "2025-06-24 21:58:14,660 - INFO - Modelo treinado para Belem. Perda final de validação: 0.0320\n",
      "2025-06-24 21:58:14,660 - INFO - Modelo treinado para Belem. Perda final de validação: 0.0320\n"
     ]
    },
    {
     "name": "stdout",
     "output_type": "stream",
     "text": [
      "\u001b[1m2/2\u001b[0m \u001b[32m━━━━━━━━━━━━━━━━━━━━\u001b[0m\u001b[37m\u001b[0m \u001b[1m0s\u001b[0m 106ms/step\n",
      "\u001b[1m2/2\u001b[0m \u001b[32m━━━━━━━━━━━━━━━━━━━━\u001b[0m\u001b[37m\u001b[0m \u001b[1m0s\u001b[0m 106ms/step\n"
     ]
    },
    {
     "name": "stderr",
     "output_type": "stream",
     "text": [
      "2025-06-24 21:58:14,905 - INFO - Métricas de teste para Belem: MAE=0.8470, RMSE=1.4616, R²=0.5665\n"
     ]
    },
    {
     "name": "stdout",
     "output_type": "stream",
     "text": [
      "\u001b[1m2/2\u001b[0m \u001b[32m━━━━━━━━━━━━━━━━━━━━\u001b[0m\u001b[37m\u001b[0m \u001b[1m0s\u001b[0m 15ms/step\n",
      "\u001b[1m2/2\u001b[0m \u001b[32m━━━━━━━━━━━━━━━━━━━━\u001b[0m\u001b[37m\u001b[0m \u001b[1m0s\u001b[0m 15ms/step\n"
     ]
    },
    {
     "name": "stderr",
     "output_type": "stream",
     "text": [
      "2025-06-24 21:58:15,457 - INFO - Gráficos salvos para Belem\n",
      "2025-06-24 21:58:15,461 - INFO - Métricas e previsões salvas para Belem\n",
      "2025-06-24 21:58:15,462 - INFO - ===== Processamento para Belem concluído =====\n",
      "\n",
      "2025-06-24 21:58:15,462 - INFO - ===== Iniciando processamento para Macapa (1600303) =====\n",
      "2025-06-24 21:58:15,461 - INFO - Métricas e previsões salvas para Belem\n",
      "2025-06-24 21:58:15,462 - INFO - ===== Processamento para Belem concluído =====\n",
      "\n",
      "2025-06-24 21:58:15,462 - INFO - ===== Iniciando processamento para Macapa (1600303) =====\n",
      "2025-06-24 21:58:15,475 - INFO - Dados para Macapa filtrados e limpos: (1152, 10)\n",
      "2025-06-24 21:58:15,475 - INFO - Dados para Macapa filtrados e limpos: (1152, 10)\n",
      "2025-06-24 21:58:15,483 - INFO - Dados preparados para o modelo. Treino: (1036, 12, 1), Validação: (40, 12, 1), Teste: (40, 12, 1)\n",
      "2025-06-24 21:58:15,483 - INFO - Dados preparados para o modelo. Treino: (1036, 12, 1), Validação: (40, 12, 1), Teste: (40, 12, 1)\n",
      "2025-06-24 21:58:36,113 - INFO - Modelo treinado para Macapa. Perda final de validação: 0.0653\n",
      "2025-06-24 21:58:36,113 - INFO - Modelo treinado para Macapa. Perda final de validação: 0.0653\n"
     ]
    },
    {
     "name": "stdout",
     "output_type": "stream",
     "text": [
      "\u001b[1m2/2\u001b[0m \u001b[32m━━━━━━━━━━━━━━━━━━━━\u001b[0m\u001b[37m\u001b[0m \u001b[1m0s\u001b[0m 105ms/step\n",
      "\u001b[1m2/2\u001b[0m \u001b[32m━━━━━━━━━━━━━━━━━━━━\u001b[0m\u001b[37m\u001b[0m \u001b[1m0s\u001b[0m 105ms/step\n"
     ]
    },
    {
     "name": "stderr",
     "output_type": "stream",
     "text": [
      "2025-06-24 21:58:36,368 - INFO - Métricas de teste para Macapa: MAE=0.7158, RMSE=1.1359, R²=0.6473\n"
     ]
    },
    {
     "name": "stdout",
     "output_type": "stream",
     "text": [
      "\u001b[1m2/2\u001b[0m \u001b[32m━━━━━━━━━━━━━━━━━━━━\u001b[0m\u001b[37m\u001b[0m \u001b[1m0s\u001b[0m 25ms/step\n",
      "\u001b[1m2/2\u001b[0m \u001b[32m━━━━━━━━━━━━━━━━━━━━\u001b[0m\u001b[37m\u001b[0m \u001b[1m0s\u001b[0m 25ms/step\n"
     ]
    },
    {
     "name": "stderr",
     "output_type": "stream",
     "text": [
      "2025-06-24 21:58:36,913 - INFO - Gráficos salvos para Macapa\n",
      "2025-06-24 21:58:36,917 - INFO - Métricas e previsões salvas para Macapa\n",
      "2025-06-24 21:58:36,918 - INFO - ===== Processamento para Macapa concluído =====\n",
      "\n",
      "2025-06-24 21:58:36,919 - INFO - ===== Iniciando processamento para Palmas (1721000) =====\n",
      "2025-06-24 21:58:36,917 - INFO - Métricas e previsões salvas para Macapa\n",
      "2025-06-24 21:58:36,918 - INFO - ===== Processamento para Macapa concluído =====\n",
      "\n",
      "2025-06-24 21:58:36,919 - INFO - ===== Iniciando processamento para Palmas (1721000) =====\n",
      "2025-06-24 21:58:36,928 - INFO - Dados para Palmas filtrados e limpos: (1152, 10)\n",
      "2025-06-24 21:58:36,928 - INFO - Dados para Palmas filtrados e limpos: (1152, 10)\n",
      "2025-06-24 21:58:36,936 - INFO - Dados preparados para o modelo. Treino: (1036, 12, 1), Validação: (40, 12, 1), Teste: (40, 12, 1)\n",
      "2025-06-24 21:58:36,936 - INFO - Dados preparados para o modelo. Treino: (1036, 12, 1), Validação: (40, 12, 1), Teste: (40, 12, 1)\n",
      "2025-06-24 21:58:49,560 - INFO - Modelo treinado para Palmas. Perda final de validação: 0.0628\n",
      "2025-06-24 21:58:49,560 - INFO - Modelo treinado para Palmas. Perda final de validação: 0.0628\n"
     ]
    },
    {
     "name": "stdout",
     "output_type": "stream",
     "text": [
      "\u001b[1m2/2\u001b[0m \u001b[32m━━━━━━━━━━━━━━━━━━━━\u001b[0m\u001b[37m\u001b[0m \u001b[1m0s\u001b[0m 117ms/step\n",
      "\u001b[1m2/2\u001b[0m \u001b[32m━━━━━━━━━━━━━━━━━━━━\u001b[0m\u001b[37m\u001b[0m \u001b[1m0s\u001b[0m 117ms/step\n"
     ]
    },
    {
     "name": "stderr",
     "output_type": "stream",
     "text": [
      "2025-06-24 21:58:49,818 - INFO - Métricas de teste para Palmas: MAE=1.2517, RMSE=1.9151, R²=0.4948\n"
     ]
    },
    {
     "name": "stdout",
     "output_type": "stream",
     "text": [
      "\u001b[1m2/2\u001b[0m \u001b[32m━━━━━━━━━━━━━━━━━━━━\u001b[0m\u001b[37m\u001b[0m \u001b[1m0s\u001b[0m 13ms/step\n",
      "\u001b[1m2/2\u001b[0m \u001b[32m━━━━━━━━━━━━━━━━━━━━\u001b[0m\u001b[37m\u001b[0m \u001b[1m0s\u001b[0m 13ms/step\n"
     ]
    },
    {
     "name": "stderr",
     "output_type": "stream",
     "text": [
      "2025-06-24 21:58:50,347 - INFO - Gráficos salvos para Palmas\n",
      "2025-06-24 21:58:50,351 - INFO - Métricas e previsões salvas para Palmas\n",
      "2025-06-24 21:58:50,351 - INFO - ===== Processamento para Palmas concluído =====\n",
      "\n",
      "2025-06-24 21:58:50,352 - INFO - ===== Iniciando processamento para Sao_Luis (2111300) =====\n",
      "2025-06-24 21:58:50,364 - INFO - Dados para Sao_Luis filtrados e limpos: (1152, 10)\n",
      "2025-06-24 21:58:50,351 - INFO - Métricas e previsões salvas para Palmas\n",
      "2025-06-24 21:58:50,351 - INFO - ===== Processamento para Palmas concluído =====\n",
      "\n",
      "2025-06-24 21:58:50,352 - INFO - ===== Iniciando processamento para Sao_Luis (2111300) =====\n",
      "2025-06-24 21:58:50,364 - INFO - Dados para Sao_Luis filtrados e limpos: (1152, 10)\n",
      "2025-06-24 21:58:50,371 - INFO - Dados preparados para o modelo. Treino: (1036, 12, 1), Validação: (40, 12, 1), Teste: (40, 12, 1)\n",
      "2025-06-24 21:58:50,371 - INFO - Dados preparados para o modelo. Treino: (1036, 12, 1), Validação: (40, 12, 1), Teste: (40, 12, 1)\n",
      "2025-06-24 21:58:55,637 - INFO - Modelo treinado para Sao_Luis. Perda final de validação: 0.1213\n",
      "2025-06-24 21:58:55,637 - INFO - Modelo treinado para Sao_Luis. Perda final de validação: 0.1213\n"
     ]
    },
    {
     "name": "stdout",
     "output_type": "stream",
     "text": [
      "\u001b[1m2/2\u001b[0m \u001b[32m━━━━━━━━━━━━━━━━━━━━\u001b[0m\u001b[37m\u001b[0m \u001b[1m0s\u001b[0m 111ms/step\n",
      "\u001b[1m2/2\u001b[0m \u001b[32m━━━━━━━━━━━━━━━━━━━━\u001b[0m\u001b[37m\u001b[0m \u001b[1m0s\u001b[0m 111ms/step\n"
     ]
    },
    {
     "name": "stderr",
     "output_type": "stream",
     "text": [
      "2025-06-24 21:58:55,889 - INFO - Métricas de teste para Sao_Luis: MAE=0.5028, RMSE=0.7497, R²=0.4466\n"
     ]
    },
    {
     "name": "stdout",
     "output_type": "stream",
     "text": [
      "\u001b[1m2/2\u001b[0m \u001b[32m━━━━━━━━━━━━━━━━━━━━\u001b[0m\u001b[37m\u001b[0m \u001b[1m0s\u001b[0m 14ms/step\n",
      "\u001b[1m2/2\u001b[0m \u001b[32m━━━━━━━━━━━━━━━━━━━━\u001b[0m\u001b[37m\u001b[0m \u001b[1m0s\u001b[0m 14ms/step\n"
     ]
    },
    {
     "name": "stderr",
     "output_type": "stream",
     "text": [
      "2025-06-24 21:58:56,416 - INFO - Gráficos salvos para Sao_Luis\n",
      "2025-06-24 21:58:56,420 - INFO - Métricas e previsões salvas para Sao_Luis\n",
      "2025-06-24 21:58:56,420 - INFO - ===== Processamento para Sao_Luis concluído =====\n",
      "\n",
      "2025-06-24 21:58:56,421 - INFO - ===== Iniciando processamento para Teresina (2211001) =====\n",
      "2025-06-24 21:58:56,429 - INFO - Dados para Teresina filtrados e limpos: (1152, 10)\n",
      "2025-06-24 21:58:56,420 - INFO - Métricas e previsões salvas para Sao_Luis\n",
      "2025-06-24 21:58:56,420 - INFO - ===== Processamento para Sao_Luis concluído =====\n",
      "\n",
      "2025-06-24 21:58:56,421 - INFO - ===== Iniciando processamento para Teresina (2211001) =====\n",
      "2025-06-24 21:58:56,429 - INFO - Dados para Teresina filtrados e limpos: (1152, 10)\n",
      "2025-06-24 21:58:56,436 - INFO - Dados preparados para o modelo. Treino: (1036, 12, 1), Validação: (40, 12, 1), Teste: (40, 12, 1)\n",
      "2025-06-24 21:58:56,436 - INFO - Dados preparados para o modelo. Treino: (1036, 12, 1), Validação: (40, 12, 1), Teste: (40, 12, 1)\n",
      "2025-06-24 21:59:27,117 - INFO - Modelo treinado para Teresina. Perda final de validação: 0.1063\n",
      "2025-06-24 21:59:27,117 - INFO - Modelo treinado para Teresina. Perda final de validação: 0.1063\n"
     ]
    },
    {
     "name": "stdout",
     "output_type": "stream",
     "text": [
      "\u001b[1m2/2\u001b[0m \u001b[32m━━━━━━━━━━━━━━━━━━━━\u001b[0m\u001b[37m\u001b[0m \u001b[1m0s\u001b[0m 110ms/step\n",
      "\u001b[1m2/2\u001b[0m \u001b[32m━━━━━━━━━━━━━━━━━━━━\u001b[0m\u001b[37m\u001b[0m \u001b[1m0s\u001b[0m 110ms/step\n"
     ]
    },
    {
     "name": "stderr",
     "output_type": "stream",
     "text": [
      "2025-06-24 21:59:27,373 - INFO - Métricas de teste para Teresina: MAE=0.7698, RMSE=1.1024, R²=0.3029\n"
     ]
    },
    {
     "name": "stdout",
     "output_type": "stream",
     "text": [
      "\u001b[1m2/2\u001b[0m \u001b[32m━━━━━━━━━━━━━━━━━━━━\u001b[0m\u001b[37m\u001b[0m \u001b[1m0s\u001b[0m 22ms/step\n",
      "\u001b[1m2/2\u001b[0m \u001b[32m━━━━━━━━━━━━━━━━━━━━\u001b[0m\u001b[37m\u001b[0m \u001b[1m0s\u001b[0m 22ms/step\n"
     ]
    },
    {
     "name": "stderr",
     "output_type": "stream",
     "text": [
      "2025-06-24 21:59:27,958 - INFO - Gráficos salvos para Teresina\n",
      "2025-06-24 21:59:27,962 - INFO - Métricas e previsões salvas para Teresina\n",
      "2025-06-24 21:59:27,963 - INFO - ===== Processamento para Teresina concluído =====\n",
      "\n",
      "2025-06-24 21:59:27,964 - INFO - ===== Iniciando processamento para Fortaleza (2304400) =====\n",
      "2025-06-24 21:59:27,974 - INFO - Dados para Fortaleza filtrados e limpos: (1152, 10)\n",
      "2025-06-24 21:59:27,962 - INFO - Métricas e previsões salvas para Teresina\n",
      "2025-06-24 21:59:27,963 - INFO - ===== Processamento para Teresina concluído =====\n",
      "\n",
      "2025-06-24 21:59:27,964 - INFO - ===== Iniciando processamento para Fortaleza (2304400) =====\n",
      "2025-06-24 21:59:27,974 - INFO - Dados para Fortaleza filtrados e limpos: (1152, 10)\n",
      "2025-06-24 21:59:27,983 - INFO - Dados preparados para o modelo. Treino: (1036, 12, 1), Validação: (40, 12, 1), Teste: (40, 12, 1)\n",
      "2025-06-24 21:59:27,983 - INFO - Dados preparados para o modelo. Treino: (1036, 12, 1), Validação: (40, 12, 1), Teste: (40, 12, 1)\n",
      "2025-06-24 21:59:37,696 - INFO - Modelo treinado para Fortaleza. Perda final de validação: 0.0563\n",
      "2025-06-24 21:59:37,696 - INFO - Modelo treinado para Fortaleza. Perda final de validação: 0.0563\n"
     ]
    },
    {
     "name": "stdout",
     "output_type": "stream",
     "text": [
      "\u001b[1m2/2\u001b[0m \u001b[32m━━━━━━━━━━━━━━━━━━━━\u001b[0m\u001b[37m\u001b[0m \u001b[1m0s\u001b[0m 107ms/step\n",
      "\u001b[1m2/2\u001b[0m \u001b[32m━━━━━━━━━━━━━━━━━━━━\u001b[0m\u001b[37m\u001b[0m \u001b[1m0s\u001b[0m 107ms/step\n"
     ]
    },
    {
     "name": "stderr",
     "output_type": "stream",
     "text": [
      "2025-06-24 21:59:37,957 - INFO - Métricas de teste para Fortaleza: MAE=0.5114, RMSE=0.8604, R²=0.8348\n"
     ]
    },
    {
     "name": "stdout",
     "output_type": "stream",
     "text": [
      "\u001b[1m2/2\u001b[0m \u001b[32m━━━━━━━━━━━━━━━━━━━━\u001b[0m\u001b[37m\u001b[0m \u001b[1m0s\u001b[0m 18ms/step\n",
      "\u001b[1m2/2\u001b[0m \u001b[32m━━━━━━━━━━━━━━━━━━━━\u001b[0m\u001b[37m\u001b[0m \u001b[1m0s\u001b[0m 18ms/step\n"
     ]
    },
    {
     "name": "stderr",
     "output_type": "stream",
     "text": [
      "2025-06-24 21:59:38,499 - INFO - Gráficos salvos para Fortaleza\n",
      "2025-06-24 21:59:38,503 - INFO - Métricas e previsões salvas para Fortaleza\n",
      "2025-06-24 21:59:38,504 - INFO - ===== Processamento para Fortaleza concluído =====\n",
      "\n",
      "2025-06-24 21:59:38,505 - INFO - ===== Iniciando processamento para Natal (2408102) =====\n",
      "2025-06-24 21:59:38,503 - INFO - Métricas e previsões salvas para Fortaleza\n",
      "2025-06-24 21:59:38,504 - INFO - ===== Processamento para Fortaleza concluído =====\n",
      "\n",
      "2025-06-24 21:59:38,505 - INFO - ===== Iniciando processamento para Natal (2408102) =====\n",
      "2025-06-24 21:59:38,513 - INFO - Dados para Natal filtrados e limpos: (1152, 10)\n",
      "2025-06-24 21:59:38,520 - INFO - Dados preparados para o modelo. Treino: (1036, 12, 1), Validação: (40, 12, 1), Teste: (40, 12, 1)\n",
      "2025-06-24 21:59:38,513 - INFO - Dados para Natal filtrados e limpos: (1152, 10)\n",
      "2025-06-24 21:59:38,520 - INFO - Dados preparados para o modelo. Treino: (1036, 12, 1), Validação: (40, 12, 1), Teste: (40, 12, 1)\n",
      "2025-06-24 21:59:50,210 - INFO - Modelo treinado para Natal. Perda final de validação: 0.6647\n",
      "2025-06-24 21:59:50,210 - INFO - Modelo treinado para Natal. Perda final de validação: 0.6647\n"
     ]
    },
    {
     "name": "stdout",
     "output_type": "stream",
     "text": [
      "\u001b[1m2/2\u001b[0m \u001b[32m━━━━━━━━━━━━━━━━━━━━\u001b[0m\u001b[37m\u001b[0m \u001b[1m0s\u001b[0m 103ms/step\n",
      "\u001b[1m2/2\u001b[0m \u001b[32m━━━━━━━━━━━━━━━━━━━━\u001b[0m\u001b[37m\u001b[0m \u001b[1m0s\u001b[0m 103ms/step\n"
     ]
    },
    {
     "name": "stderr",
     "output_type": "stream",
     "text": [
      "2025-06-24 21:59:50,455 - INFO - Métricas de teste para Natal: MAE=0.3495, RMSE=0.4160, R²=0.2818\n"
     ]
    },
    {
     "name": "stdout",
     "output_type": "stream",
     "text": [
      "\u001b[1m2/2\u001b[0m \u001b[32m━━━━━━━━━━━━━━━━━━━━\u001b[0m\u001b[37m\u001b[0m \u001b[1m0s\u001b[0m 14ms/step\n",
      "\u001b[1m2/2\u001b[0m \u001b[32m━━━━━━━━━━━━━━━━━━━━\u001b[0m\u001b[37m\u001b[0m \u001b[1m0s\u001b[0m 14ms/step\n"
     ]
    },
    {
     "name": "stderr",
     "output_type": "stream",
     "text": [
      "2025-06-24 21:59:50,992 - INFO - Gráficos salvos para Natal\n",
      "2025-06-24 21:59:50,996 - INFO - Métricas e previsões salvas para Natal\n",
      "2025-06-24 21:59:50,997 - INFO - ===== Processamento para Natal concluído =====\n",
      "\n",
      "2025-06-24 21:59:50,998 - INFO - ===== Iniciando processamento para Joao_Pessoa (2507507) =====\n",
      "2025-06-24 21:59:51,006 - INFO - Dados para Joao_Pessoa filtrados e limpos: (1152, 10)\n",
      "2025-06-24 21:59:50,996 - INFO - Métricas e previsões salvas para Natal\n",
      "2025-06-24 21:59:50,997 - INFO - ===== Processamento para Natal concluído =====\n",
      "\n",
      "2025-06-24 21:59:50,998 - INFO - ===== Iniciando processamento para Joao_Pessoa (2507507) =====\n",
      "2025-06-24 21:59:51,006 - INFO - Dados para Joao_Pessoa filtrados e limpos: (1152, 10)\n",
      "2025-06-24 21:59:51,014 - INFO - Dados preparados para o modelo. Treino: (1036, 12, 1), Validação: (40, 12, 1), Teste: (40, 12, 1)\n",
      "2025-06-24 21:59:51,014 - INFO - Dados preparados para o modelo. Treino: (1036, 12, 1), Validação: (40, 12, 1), Teste: (40, 12, 1)\n",
      "2025-06-24 22:00:21,491 - INFO - Modelo treinado para Joao_Pessoa. Perda final de validação: 0.0337\n",
      "2025-06-24 22:00:21,491 - INFO - Modelo treinado para Joao_Pessoa. Perda final de validação: 0.0337\n"
     ]
    },
    {
     "name": "stdout",
     "output_type": "stream",
     "text": [
      "\u001b[1m2/2\u001b[0m \u001b[32m━━━━━━━━━━━━━━━━━━━━\u001b[0m\u001b[37m\u001b[0m \u001b[1m0s\u001b[0m 111ms/step\n",
      "\u001b[1m2/2\u001b[0m \u001b[32m━━━━━━━━━━━━━━━━━━━━\u001b[0m\u001b[37m\u001b[0m \u001b[1m0s\u001b[0m 111ms/step\n"
     ]
    },
    {
     "name": "stderr",
     "output_type": "stream",
     "text": [
      "2025-06-24 22:00:21,742 - INFO - Métricas de teste para Joao_Pessoa: MAE=0.6559, RMSE=0.9355, R²=0.1097\n"
     ]
    },
    {
     "name": "stdout",
     "output_type": "stream",
     "text": [
      "\u001b[1m2/2\u001b[0m \u001b[32m━━━━━━━━━━━━━━━━━━━━\u001b[0m\u001b[37m\u001b[0m \u001b[1m0s\u001b[0m 15ms/step\n",
      "\u001b[1m2/2\u001b[0m \u001b[32m━━━━━━━━━━━━━━━━━━━━\u001b[0m\u001b[37m\u001b[0m \u001b[1m0s\u001b[0m 15ms/step\n"
     ]
    },
    {
     "name": "stderr",
     "output_type": "stream",
     "text": [
      "2025-06-24 22:00:22,310 - INFO - Gráficos salvos para Joao_Pessoa\n",
      "2025-06-24 22:00:22,315 - INFO - Métricas e previsões salvas para Joao_Pessoa\n",
      "2025-06-24 22:00:22,316 - INFO - ===== Processamento para Joao_Pessoa concluído =====\n",
      "\n",
      "2025-06-24 22:00:22,316 - INFO - ===== Iniciando processamento para Recife (2611606) =====\n",
      "2025-06-24 22:00:22,326 - INFO - Dados para Recife filtrados e limpos: (1152, 10)\n",
      "2025-06-24 22:00:22,315 - INFO - Métricas e previsões salvas para Joao_Pessoa\n",
      "2025-06-24 22:00:22,316 - INFO - ===== Processamento para Joao_Pessoa concluído =====\n",
      "\n",
      "2025-06-24 22:00:22,316 - INFO - ===== Iniciando processamento para Recife (2611606) =====\n",
      "2025-06-24 22:00:22,326 - INFO - Dados para Recife filtrados e limpos: (1152, 10)\n",
      "2025-06-24 22:00:22,334 - INFO - Dados preparados para o modelo. Treino: (1036, 12, 1), Validação: (40, 12, 1), Teste: (40, 12, 1)\n",
      "2025-06-24 22:00:22,334 - INFO - Dados preparados para o modelo. Treino: (1036, 12, 1), Validação: (40, 12, 1), Teste: (40, 12, 1)\n",
      "2025-06-24 22:00:38,734 - INFO - Modelo treinado para Recife. Perda final de validação: 0.2606\n",
      "2025-06-24 22:00:38,734 - INFO - Modelo treinado para Recife. Perda final de validação: 0.2606\n"
     ]
    },
    {
     "name": "stdout",
     "output_type": "stream",
     "text": [
      "\u001b[1m2/2\u001b[0m \u001b[32m━━━━━━━━━━━━━━━━━━━━\u001b[0m\u001b[37m\u001b[0m \u001b[1m0s\u001b[0m 117ms/step\n",
      "\u001b[1m2/2\u001b[0m \u001b[32m━━━━━━━━━━━━━━━━━━━━\u001b[0m\u001b[37m\u001b[0m \u001b[1m0s\u001b[0m 117ms/step\n"
     ]
    },
    {
     "name": "stderr",
     "output_type": "stream",
     "text": [
      "2025-06-24 22:00:39,034 - INFO - Métricas de teste para Recife: MAE=1.0443, RMSE=1.8980, R²=0.6137\n"
     ]
    },
    {
     "name": "stdout",
     "output_type": "stream",
     "text": [
      "\u001b[1m2/2\u001b[0m \u001b[32m━━━━━━━━━━━━━━━━━━━━\u001b[0m\u001b[37m\u001b[0m \u001b[1m0s\u001b[0m 15ms/step\n",
      "\u001b[1m2/2\u001b[0m \u001b[32m━━━━━━━━━━━━━━━━━━━━\u001b[0m\u001b[37m\u001b[0m \u001b[1m0s\u001b[0m 15ms/step\n"
     ]
    },
    {
     "name": "stderr",
     "output_type": "stream",
     "text": [
      "2025-06-24 22:00:39,620 - INFO - Gráficos salvos para Recife\n",
      "2025-06-24 22:00:39,626 - INFO - Métricas e previsões salvas para Recife\n",
      "2025-06-24 22:00:39,627 - INFO - ===== Processamento para Recife concluído =====\n",
      "\n",
      "2025-06-24 22:00:39,627 - INFO - ===== Iniciando processamento para Maceio (2704302) =====\n",
      "2025-06-24 22:00:39,626 - INFO - Métricas e previsões salvas para Recife\n",
      "2025-06-24 22:00:39,627 - INFO - ===== Processamento para Recife concluído =====\n",
      "\n",
      "2025-06-24 22:00:39,627 - INFO - ===== Iniciando processamento para Maceio (2704302) =====\n",
      "2025-06-24 22:00:39,641 - INFO - Dados para Maceio filtrados e limpos: (1152, 10)\n",
      "2025-06-24 22:00:39,651 - INFO - Dados preparados para o modelo. Treino: (1036, 12, 1), Validação: (40, 12, 1), Teste: (40, 12, 1)\n",
      "2025-06-24 22:00:39,641 - INFO - Dados para Maceio filtrados e limpos: (1152, 10)\n",
      "2025-06-24 22:00:39,651 - INFO - Dados preparados para o modelo. Treino: (1036, 12, 1), Validação: (40, 12, 1), Teste: (40, 12, 1)\n",
      "2025-06-24 22:00:57,839 - INFO - Modelo treinado para Maceio. Perda final de validação: 0.0920\n",
      "2025-06-24 22:00:57,839 - INFO - Modelo treinado para Maceio. Perda final de validação: 0.0920\n"
     ]
    },
    {
     "name": "stdout",
     "output_type": "stream",
     "text": [
      "\u001b[1m2/2\u001b[0m \u001b[32m━━━━━━━━━━━━━━━━━━━━\u001b[0m\u001b[37m\u001b[0m \u001b[1m0s\u001b[0m 137ms/step\n",
      "\u001b[1m2/2\u001b[0m \u001b[32m━━━━━━━━━━━━━━━━━━━━\u001b[0m\u001b[37m\u001b[0m \u001b[1m0s\u001b[0m 137ms/step\n"
     ]
    },
    {
     "name": "stderr",
     "output_type": "stream",
     "text": [
      "2025-06-24 22:00:58,112 - INFO - Métricas de teste para Maceio: MAE=0.5354, RMSE=0.9020, R²=0.2467\n"
     ]
    },
    {
     "name": "stdout",
     "output_type": "stream",
     "text": [
      "\u001b[1m2/2\u001b[0m \u001b[32m━━━━━━━━━━━━━━━━━━━━\u001b[0m\u001b[37m\u001b[0m \u001b[1m0s\u001b[0m 16ms/step\n",
      "\u001b[1m2/2\u001b[0m \u001b[32m━━━━━━━━━━━━━━━━━━━━\u001b[0m\u001b[37m\u001b[0m \u001b[1m0s\u001b[0m 16ms/step\n"
     ]
    },
    {
     "name": "stderr",
     "output_type": "stream",
     "text": [
      "2025-06-24 22:00:58,638 - INFO - Gráficos salvos para Maceio\n",
      "2025-06-24 22:00:58,643 - INFO - Métricas e previsões salvas para Maceio\n",
      "2025-06-24 22:00:58,643 - INFO - ===== Processamento para Maceio concluído =====\n",
      "\n",
      "2025-06-24 22:00:58,644 - INFO - ===== Iniciando processamento para Aracaju (2800308) =====\n",
      "2025-06-24 22:00:58,643 - INFO - Métricas e previsões salvas para Maceio\n",
      "2025-06-24 22:00:58,643 - INFO - ===== Processamento para Maceio concluído =====\n",
      "\n",
      "2025-06-24 22:00:58,644 - INFO - ===== Iniciando processamento para Aracaju (2800308) =====\n",
      "2025-06-24 22:00:58,652 - INFO - Dados para Aracaju filtrados e limpos: (1152, 10)\n",
      "2025-06-24 22:00:58,659 - INFO - Dados preparados para o modelo. Treino: (1036, 12, 1), Validação: (40, 12, 1), Teste: (40, 12, 1)\n",
      "2025-06-24 22:00:58,652 - INFO - Dados para Aracaju filtrados e limpos: (1152, 10)\n",
      "2025-06-24 22:00:58,659 - INFO - Dados preparados para o modelo. Treino: (1036, 12, 1), Validação: (40, 12, 1), Teste: (40, 12, 1)\n",
      "2025-06-24 22:01:08,966 - INFO - Modelo treinado para Aracaju. Perda final de validação: 0.0682\n",
      "2025-06-24 22:01:08,966 - INFO - Modelo treinado para Aracaju. Perda final de validação: 0.0682\n"
     ]
    },
    {
     "name": "stdout",
     "output_type": "stream",
     "text": [
      "\u001b[1m2/2\u001b[0m \u001b[32m━━━━━━━━━━━━━━━━━━━━\u001b[0m\u001b[37m\u001b[0m \u001b[1m0s\u001b[0m 143ms/step\n",
      "\u001b[1m2/2\u001b[0m \u001b[32m━━━━━━━━━━━━━━━━━━━━\u001b[0m\u001b[37m\u001b[0m \u001b[1m0s\u001b[0m 143ms/step\n"
     ]
    },
    {
     "name": "stderr",
     "output_type": "stream",
     "text": [
      "2025-06-24 22:01:09,267 - INFO - Métricas de teste para Aracaju: MAE=0.4898, RMSE=0.7309, R²=0.7586\n"
     ]
    },
    {
     "name": "stdout",
     "output_type": "stream",
     "text": [
      "\u001b[1m2/2\u001b[0m \u001b[32m━━━━━━━━━━━━━━━━━━━━\u001b[0m\u001b[37m\u001b[0m \u001b[1m0s\u001b[0m 15ms/step\n",
      "\u001b[1m2/2\u001b[0m \u001b[32m━━━━━━━━━━━━━━━━━━━━\u001b[0m\u001b[37m\u001b[0m \u001b[1m0s\u001b[0m 15ms/step\n"
     ]
    },
    {
     "name": "stderr",
     "output_type": "stream",
     "text": [
      "2025-06-24 22:01:09,879 - INFO - Gráficos salvos para Aracaju\n",
      "2025-06-24 22:01:09,886 - INFO - Métricas e previsões salvas para Aracaju\n",
      "2025-06-24 22:01:09,888 - INFO - ===== Processamento para Aracaju concluído =====\n",
      "\n",
      "2025-06-24 22:01:09,889 - INFO - ===== Iniciando processamento para Salvador (2927408) =====\n",
      "2025-06-24 22:01:09,886 - INFO - Métricas e previsões salvas para Aracaju\n",
      "2025-06-24 22:01:09,888 - INFO - ===== Processamento para Aracaju concluído =====\n",
      "\n",
      "2025-06-24 22:01:09,889 - INFO - ===== Iniciando processamento para Salvador (2927408) =====\n",
      "2025-06-24 22:01:09,902 - INFO - Dados para Salvador filtrados e limpos: (1152, 10)\n",
      "2025-06-24 22:01:09,902 - INFO - Dados para Salvador filtrados e limpos: (1152, 10)\n",
      "2025-06-24 22:01:09,910 - INFO - Dados preparados para o modelo. Treino: (1036, 12, 1), Validação: (40, 12, 1), Teste: (40, 12, 1)\n",
      "2025-06-24 22:01:09,910 - INFO - Dados preparados para o modelo. Treino: (1036, 12, 1), Validação: (40, 12, 1), Teste: (40, 12, 1)\n",
      "2025-06-24 22:01:22,309 - INFO - Modelo treinado para Salvador. Perda final de validação: 0.0328\n",
      "2025-06-24 22:01:22,309 - INFO - Modelo treinado para Salvador. Perda final de validação: 0.0328\n"
     ]
    },
    {
     "name": "stdout",
     "output_type": "stream",
     "text": [
      "\u001b[1m2/2\u001b[0m \u001b[32m━━━━━━━━━━━━━━━━━━━━\u001b[0m\u001b[37m\u001b[0m \u001b[1m0s\u001b[0m 110ms/step\n",
      "\u001b[1m2/2\u001b[0m \u001b[32m━━━━━━━━━━━━━━━━━━━━\u001b[0m\u001b[37m\u001b[0m \u001b[1m0s\u001b[0m 110ms/step\n"
     ]
    },
    {
     "name": "stderr",
     "output_type": "stream",
     "text": [
      "2025-06-24 22:01:22,562 - INFO - Métricas de teste para Salvador: MAE=0.7256, RMSE=1.0192, R²=-0.2163\n"
     ]
    },
    {
     "name": "stdout",
     "output_type": "stream",
     "text": [
      "\u001b[1m2/2\u001b[0m \u001b[32m━━━━━━━━━━━━━━━━━━━━\u001b[0m\u001b[37m\u001b[0m \u001b[1m0s\u001b[0m 17ms/step\n",
      "\u001b[1m2/2\u001b[0m \u001b[32m━━━━━━━━━━━━━━━━━━━━\u001b[0m\u001b[37m\u001b[0m \u001b[1m0s\u001b[0m 17ms/step\n"
     ]
    },
    {
     "name": "stderr",
     "output_type": "stream",
     "text": [
      "2025-06-24 22:01:23,141 - INFO - Gráficos salvos para Salvador\n",
      "2025-06-24 22:01:23,145 - INFO - Métricas e previsões salvas para Salvador\n",
      "2025-06-24 22:01:23,146 - INFO - ===== Processamento para Salvador concluído =====\n",
      "\n",
      "2025-06-24 22:01:23,147 - INFO - ===== Iniciando processamento para Belo_Horizonte (3106200) =====\n",
      "2025-06-24 22:01:23,145 - INFO - Métricas e previsões salvas para Salvador\n",
      "2025-06-24 22:01:23,146 - INFO - ===== Processamento para Salvador concluído =====\n",
      "\n",
      "2025-06-24 22:01:23,147 - INFO - ===== Iniciando processamento para Belo_Horizonte (3106200) =====\n",
      "2025-06-24 22:01:23,158 - INFO - Dados para Belo_Horizonte filtrados e limpos: (1152, 10)\n",
      "2025-06-24 22:01:23,158 - INFO - Dados para Belo_Horizonte filtrados e limpos: (1152, 10)\n",
      "2025-06-24 22:01:23,166 - INFO - Dados preparados para o modelo. Treino: (1036, 12, 1), Validação: (40, 12, 1), Teste: (40, 12, 1)\n",
      "2025-06-24 22:01:23,166 - INFO - Dados preparados para o modelo. Treino: (1036, 12, 1), Validação: (40, 12, 1), Teste: (40, 12, 1)\n",
      "2025-06-24 22:01:36,928 - INFO - Modelo treinado para Belo_Horizonte. Perda final de validação: 0.0656\n",
      "2025-06-24 22:01:36,928 - INFO - Modelo treinado para Belo_Horizonte. Perda final de validação: 0.0656\n"
     ]
    },
    {
     "name": "stdout",
     "output_type": "stream",
     "text": [
      "\u001b[1m2/2\u001b[0m \u001b[32m━━━━━━━━━━━━━━━━━━━━\u001b[0m\u001b[37m\u001b[0m \u001b[1m0s\u001b[0m 106ms/step\n",
      "\u001b[1m2/2\u001b[0m \u001b[32m━━━━━━━━━━━━━━━━━━━━\u001b[0m\u001b[37m\u001b[0m \u001b[1m0s\u001b[0m 106ms/step\n"
     ]
    },
    {
     "name": "stderr",
     "output_type": "stream",
     "text": [
      "2025-06-24 22:01:37,200 - INFO - Métricas de teste para Belo_Horizonte: MAE=0.7455, RMSE=1.3599, R²=-0.2861\n"
     ]
    },
    {
     "name": "stdout",
     "output_type": "stream",
     "text": [
      "\u001b[1m2/2\u001b[0m \u001b[32m━━━━━━━━━━━━━━━━━━━━\u001b[0m\u001b[37m\u001b[0m \u001b[1m0s\u001b[0m 18ms/step\n",
      "\u001b[1m2/2\u001b[0m \u001b[32m━━━━━━━━━━━━━━━━━━━━\u001b[0m\u001b[37m\u001b[0m \u001b[1m0s\u001b[0m 18ms/step\n"
     ]
    },
    {
     "name": "stderr",
     "output_type": "stream",
     "text": [
      "2025-06-24 22:01:37,738 - INFO - Gráficos salvos para Belo_Horizonte\n",
      "2025-06-24 22:01:37,742 - INFO - Métricas e previsões salvas para Belo_Horizonte\n",
      "2025-06-24 22:01:37,743 - INFO - ===== Processamento para Belo_Horizonte concluído =====\n",
      "\n",
      "2025-06-24 22:01:37,743 - INFO - ===== Iniciando processamento para Vitoria (3205309) =====\n",
      "2025-06-24 22:01:37,752 - INFO - Dados para Vitoria filtrados e limpos: (1152, 10)\n",
      "2025-06-24 22:01:37,742 - INFO - Métricas e previsões salvas para Belo_Horizonte\n",
      "2025-06-24 22:01:37,743 - INFO - ===== Processamento para Belo_Horizonte concluído =====\n",
      "\n",
      "2025-06-24 22:01:37,743 - INFO - ===== Iniciando processamento para Vitoria (3205309) =====\n",
      "2025-06-24 22:01:37,752 - INFO - Dados para Vitoria filtrados e limpos: (1152, 10)\n",
      "2025-06-24 22:01:37,760 - INFO - Dados preparados para o modelo. Treino: (1036, 12, 1), Validação: (40, 12, 1), Teste: (40, 12, 1)\n",
      "2025-06-24 22:01:37,760 - INFO - Dados preparados para o modelo. Treino: (1036, 12, 1), Validação: (40, 12, 1), Teste: (40, 12, 1)\n",
      "2025-06-24 22:01:50,024 - INFO - Modelo treinado para Vitoria. Perda final de validação: 0.0740\n",
      "2025-06-24 22:01:50,024 - INFO - Modelo treinado para Vitoria. Perda final de validação: 0.0740\n"
     ]
    },
    {
     "name": "stdout",
     "output_type": "stream",
     "text": [
      "\u001b[1m2/2\u001b[0m \u001b[32m━━━━━━━━━━━━━━━━━━━━\u001b[0m\u001b[37m\u001b[0m \u001b[1m0s\u001b[0m 108ms/step\n",
      "\u001b[1m2/2\u001b[0m \u001b[32m━━━━━━━━━━━━━━━━━━━━\u001b[0m\u001b[37m\u001b[0m \u001b[1m0s\u001b[0m 108ms/step\n"
     ]
    },
    {
     "name": "stderr",
     "output_type": "stream",
     "text": [
      "2025-06-24 22:01:50,270 - INFO - Métricas de teste para Vitoria: MAE=2.5992, RMSE=4.7801, R²=0.1100\n"
     ]
    },
    {
     "name": "stdout",
     "output_type": "stream",
     "text": [
      "\u001b[1m2/2\u001b[0m \u001b[32m━━━━━━━━━━━━━━━━━━━━\u001b[0m\u001b[37m\u001b[0m \u001b[1m0s\u001b[0m 17ms/step\n",
      "\u001b[1m2/2\u001b[0m \u001b[32m━━━━━━━━━━━━━━━━━━━━\u001b[0m\u001b[37m\u001b[0m \u001b[1m0s\u001b[0m 17ms/step\n"
     ]
    },
    {
     "name": "stderr",
     "output_type": "stream",
     "text": [
      "2025-06-24 22:01:50,855 - INFO - Gráficos salvos para Vitoria\n",
      "2025-06-24 22:01:50,859 - INFO - Métricas e previsões salvas para Vitoria\n",
      "2025-06-24 22:01:50,859 - INFO - ===== Processamento para Vitoria concluído =====\n",
      "\n",
      "2025-06-24 22:01:50,860 - INFO - ===== Iniciando processamento para Rio_de_Janeiro (3304557) =====\n",
      "2025-06-24 22:01:50,869 - INFO - Dados para Rio_de_Janeiro filtrados e limpos: (1152, 10)\n",
      "2025-06-24 22:01:50,859 - INFO - Métricas e previsões salvas para Vitoria\n",
      "2025-06-24 22:01:50,859 - INFO - ===== Processamento para Vitoria concluído =====\n",
      "\n",
      "2025-06-24 22:01:50,860 - INFO - ===== Iniciando processamento para Rio_de_Janeiro (3304557) =====\n",
      "2025-06-24 22:01:50,869 - INFO - Dados para Rio_de_Janeiro filtrados e limpos: (1152, 10)\n",
      "2025-06-24 22:01:50,876 - INFO - Dados preparados para o modelo. Treino: (1036, 12, 1), Validação: (40, 12, 1), Teste: (40, 12, 1)\n",
      "2025-06-24 22:01:50,876 - INFO - Dados preparados para o modelo. Treino: (1036, 12, 1), Validação: (40, 12, 1), Teste: (40, 12, 1)\n",
      "2025-06-24 22:02:04,672 - INFO - Modelo treinado para Rio_de_Janeiro. Perda final de validação: 0.0670\n",
      "2025-06-24 22:02:04,672 - INFO - Modelo treinado para Rio_de_Janeiro. Perda final de validação: 0.0670\n"
     ]
    },
    {
     "name": "stdout",
     "output_type": "stream",
     "text": [
      "\u001b[1m2/2\u001b[0m \u001b[32m━━━━━━━━━━━━━━━━━━━━\u001b[0m\u001b[37m\u001b[0m \u001b[1m0s\u001b[0m 115ms/step\n",
      "\u001b[1m2/2\u001b[0m \u001b[32m━━━━━━━━━━━━━━━━━━━━\u001b[0m\u001b[37m\u001b[0m \u001b[1m0s\u001b[0m 115ms/step\n"
     ]
    },
    {
     "name": "stderr",
     "output_type": "stream",
     "text": [
      "2025-06-24 22:02:04,928 - INFO - Métricas de teste para Rio_de_Janeiro: MAE=0.4429, RMSE=0.6110, R²=0.3211\n"
     ]
    },
    {
     "name": "stdout",
     "output_type": "stream",
     "text": [
      "\u001b[1m2/2\u001b[0m \u001b[32m━━━━━━━━━━━━━━━━━━━━\u001b[0m\u001b[37m\u001b[0m \u001b[1m0s\u001b[0m 13ms/step\n",
      "\u001b[1m2/2\u001b[0m \u001b[32m━━━━━━━━━━━━━━━━━━━━\u001b[0m\u001b[37m\u001b[0m \u001b[1m0s\u001b[0m 13ms/step\n"
     ]
    },
    {
     "name": "stderr",
     "output_type": "stream",
     "text": [
      "2025-06-24 22:02:05,469 - INFO - Gráficos salvos para Rio_de_Janeiro\n",
      "2025-06-24 22:02:05,474 - INFO - Métricas e previsões salvas para Rio_de_Janeiro\n",
      "2025-06-24 22:02:05,475 - INFO - ===== Processamento para Rio_de_Janeiro concluído =====\n",
      "\n",
      "2025-06-24 22:02:05,475 - INFO - ===== Iniciando processamento para Sao_Paulo (3550308) =====\n",
      "2025-06-24 22:02:05,474 - INFO - Métricas e previsões salvas para Rio_de_Janeiro\n",
      "2025-06-24 22:02:05,475 - INFO - ===== Processamento para Rio_de_Janeiro concluído =====\n",
      "\n",
      "2025-06-24 22:02:05,475 - INFO - ===== Iniciando processamento para Sao_Paulo (3550308) =====\n",
      "2025-06-24 22:02:05,484 - INFO - Dados para Sao_Paulo filtrados e limpos: (1152, 10)\n",
      "2025-06-24 22:02:05,493 - INFO - Dados preparados para o modelo. Treino: (1036, 12, 1), Validação: (40, 12, 1), Teste: (40, 12, 1)\n",
      "2025-06-24 22:02:05,484 - INFO - Dados para Sao_Paulo filtrados e limpos: (1152, 10)\n",
      "2025-06-24 22:02:05,493 - INFO - Dados preparados para o modelo. Treino: (1036, 12, 1), Validação: (40, 12, 1), Teste: (40, 12, 1)\n",
      "2025-06-24 22:02:32,334 - INFO - Modelo treinado para Sao_Paulo. Perda final de validação: 0.0517\n",
      "2025-06-24 22:02:32,334 - INFO - Modelo treinado para Sao_Paulo. Perda final de validação: 0.0517\n"
     ]
    },
    {
     "name": "stdout",
     "output_type": "stream",
     "text": [
      "\u001b[1m2/2\u001b[0m \u001b[32m━━━━━━━━━━━━━━━━━━━━\u001b[0m\u001b[37m\u001b[0m \u001b[1m0s\u001b[0m 112ms/step\n",
      "\u001b[1m2/2\u001b[0m \u001b[32m━━━━━━━━━━━━━━━━━━━━\u001b[0m\u001b[37m\u001b[0m \u001b[1m0s\u001b[0m 112ms/step\n"
     ]
    },
    {
     "name": "stderr",
     "output_type": "stream",
     "text": [
      "2025-06-24 22:02:32,594 - INFO - Métricas de teste para Sao_Paulo: MAE=0.4293, RMSE=0.6912, R²=-0.8945\n"
     ]
    },
    {
     "name": "stdout",
     "output_type": "stream",
     "text": [
      "\u001b[1m2/2\u001b[0m \u001b[32m━━━━━━━━━━━━━━━━━━━━\u001b[0m\u001b[37m\u001b[0m \u001b[1m0s\u001b[0m 17ms/step\n",
      "\u001b[1m2/2\u001b[0m \u001b[32m━━━━━━━━━━━━━━━━━━━━\u001b[0m\u001b[37m\u001b[0m \u001b[1m0s\u001b[0m 17ms/step\n"
     ]
    },
    {
     "name": "stderr",
     "output_type": "stream",
     "text": [
      "2025-06-24 22:02:33,140 - INFO - Gráficos salvos para Sao_Paulo\n",
      "2025-06-24 22:02:33,144 - INFO - Métricas e previsões salvas para Sao_Paulo\n",
      "2025-06-24 22:02:33,145 - INFO - ===== Processamento para Sao_Paulo concluído =====\n",
      "\n",
      "2025-06-24 22:02:33,145 - INFO - ===== Iniciando processamento para Curitiba (4106902) =====\n",
      "2025-06-24 22:02:33,157 - INFO - Dados para Curitiba filtrados e limpos: (1152, 10)\n",
      "2025-06-24 22:02:33,144 - INFO - Métricas e previsões salvas para Sao_Paulo\n",
      "2025-06-24 22:02:33,145 - INFO - ===== Processamento para Sao_Paulo concluído =====\n",
      "\n",
      "2025-06-24 22:02:33,145 - INFO - ===== Iniciando processamento para Curitiba (4106902) =====\n",
      "2025-06-24 22:02:33,157 - INFO - Dados para Curitiba filtrados e limpos: (1152, 10)\n",
      "2025-06-24 22:02:33,165 - INFO - Dados preparados para o modelo. Treino: (1036, 12, 1), Validação: (40, 12, 1), Teste: (40, 12, 1)\n",
      "2025-06-24 22:02:33,165 - INFO - Dados preparados para o modelo. Treino: (1036, 12, 1), Validação: (40, 12, 1), Teste: (40, 12, 1)\n",
      "2025-06-24 22:02:45,824 - INFO - Modelo treinado para Curitiba. Perda final de validação: 0.0927\n",
      "2025-06-24 22:02:45,824 - INFO - Modelo treinado para Curitiba. Perda final de validação: 0.0927\n"
     ]
    },
    {
     "name": "stdout",
     "output_type": "stream",
     "text": [
      "\u001b[1m2/2\u001b[0m \u001b[32m━━━━━━━━━━━━━━━━━━━━\u001b[0m\u001b[37m\u001b[0m \u001b[1m0s\u001b[0m 133ms/step\n",
      "\u001b[1m2/2\u001b[0m \u001b[32m━━━━━━━━━━━━━━━━━━━━\u001b[0m\u001b[37m\u001b[0m \u001b[1m0s\u001b[0m 133ms/step\n"
     ]
    },
    {
     "name": "stderr",
     "output_type": "stream",
     "text": [
      "2025-06-24 22:02:46,112 - INFO - Métricas de teste para Curitiba: MAE=0.8115, RMSE=1.5230, R²=-0.8251\n"
     ]
    },
    {
     "name": "stdout",
     "output_type": "stream",
     "text": [
      "\u001b[1m2/2\u001b[0m \u001b[32m━━━━━━━━━━━━━━━━━━━━\u001b[0m\u001b[37m\u001b[0m \u001b[1m0s\u001b[0m 21ms/step\n",
      "\u001b[1m2/2\u001b[0m \u001b[32m━━━━━━━━━━━━━━━━━━━━\u001b[0m\u001b[37m\u001b[0m \u001b[1m0s\u001b[0m 21ms/step\n"
     ]
    },
    {
     "name": "stderr",
     "output_type": "stream",
     "text": [
      "2025-06-24 22:02:46,678 - INFO - Gráficos salvos para Curitiba\n",
      "2025-06-24 22:02:46,683 - INFO - Métricas e previsões salvas para Curitiba\n",
      "2025-06-24 22:02:46,684 - INFO - ===== Processamento para Curitiba concluído =====\n",
      "\n",
      "2025-06-24 22:02:46,684 - INFO - ===== Iniciando processamento para Florianopolis (4205407) =====\n",
      "2025-06-24 22:02:46,683 - INFO - Métricas e previsões salvas para Curitiba\n",
      "2025-06-24 22:02:46,684 - INFO - ===== Processamento para Curitiba concluído =====\n",
      "\n",
      "2025-06-24 22:02:46,684 - INFO - ===== Iniciando processamento para Florianopolis (4205407) =====\n",
      "2025-06-24 22:02:46,692 - INFO - Dados para Florianopolis filtrados e limpos: (1152, 10)\n",
      "2025-06-24 22:02:46,699 - INFO - Dados preparados para o modelo. Treino: (1036, 12, 1), Validação: (40, 12, 1), Teste: (40, 12, 1)\n",
      "2025-06-24 22:02:46,692 - INFO - Dados para Florianopolis filtrados e limpos: (1152, 10)\n",
      "2025-06-24 22:02:46,699 - INFO - Dados preparados para o modelo. Treino: (1036, 12, 1), Validação: (40, 12, 1), Teste: (40, 12, 1)\n",
      "2025-06-24 22:03:14,281 - INFO - Modelo treinado para Florianopolis. Perda final de validação: 0.0450\n",
      "2025-06-24 22:03:14,281 - INFO - Modelo treinado para Florianopolis. Perda final de validação: 0.0450\n"
     ]
    },
    {
     "name": "stdout",
     "output_type": "stream",
     "text": [
      "\u001b[1m2/2\u001b[0m \u001b[32m━━━━━━━━━━━━━━━━━━━━\u001b[0m\u001b[37m\u001b[0m \u001b[1m0s\u001b[0m 108ms/step\n",
      "\u001b[1m2/2\u001b[0m \u001b[32m━━━━━━━━━━━━━━━━━━━━\u001b[0m\u001b[37m\u001b[0m \u001b[1m0s\u001b[0m 108ms/step\n"
     ]
    },
    {
     "name": "stderr",
     "output_type": "stream",
     "text": [
      "2025-06-24 22:03:14,524 - INFO - Métricas de teste para Florianopolis: MAE=0.5379, RMSE=0.9785, R²=0.3953\n"
     ]
    },
    {
     "name": "stdout",
     "output_type": "stream",
     "text": [
      "\u001b[1m2/2\u001b[0m \u001b[32m━━━━━━━━━━━━━━━━━━━━\u001b[0m\u001b[37m\u001b[0m \u001b[1m0s\u001b[0m 17ms/step\n",
      "\u001b[1m2/2\u001b[0m \u001b[32m━━━━━━━━━━━━━━━━━━━━\u001b[0m\u001b[37m\u001b[0m \u001b[1m0s\u001b[0m 17ms/step\n"
     ]
    },
    {
     "name": "stderr",
     "output_type": "stream",
     "text": [
      "2025-06-24 22:03:15,090 - INFO - Gráficos salvos para Florianopolis\n",
      "2025-06-24 22:03:15,094 - INFO - Métricas e previsões salvas para Florianopolis\n",
      "2025-06-24 22:03:15,095 - INFO - ===== Processamento para Florianopolis concluído =====\n",
      "\n",
      "2025-06-24 22:03:15,096 - INFO - ===== Iniciando processamento para Porto_Alegre (4314902) =====\n",
      "2025-06-24 22:03:15,107 - INFO - Dados para Porto_Alegre filtrados e limpos: (1152, 10)\n",
      "2025-06-24 22:03:15,094 - INFO - Métricas e previsões salvas para Florianopolis\n",
      "2025-06-24 22:03:15,095 - INFO - ===== Processamento para Florianopolis concluído =====\n",
      "\n",
      "2025-06-24 22:03:15,096 - INFO - ===== Iniciando processamento para Porto_Alegre (4314902) =====\n",
      "2025-06-24 22:03:15,107 - INFO - Dados para Porto_Alegre filtrados e limpos: (1152, 10)\n",
      "2025-06-24 22:03:15,114 - INFO - Dados preparados para o modelo. Treino: (1036, 12, 1), Validação: (40, 12, 1), Teste: (40, 12, 1)\n",
      "2025-06-24 22:03:15,114 - INFO - Dados preparados para o modelo. Treino: (1036, 12, 1), Validação: (40, 12, 1), Teste: (40, 12, 1)\n",
      "2025-06-24 22:03:29,900 - INFO - Modelo treinado para Porto_Alegre. Perda final de validação: 0.0946\n",
      "2025-06-24 22:03:29,900 - INFO - Modelo treinado para Porto_Alegre. Perda final de validação: 0.0946\n"
     ]
    },
    {
     "name": "stdout",
     "output_type": "stream",
     "text": [
      "\u001b[1m2/2\u001b[0m \u001b[32m━━━━━━━━━━━━━━━━━━━━\u001b[0m\u001b[37m\u001b[0m \u001b[1m0s\u001b[0m 137ms/step\n",
      "\u001b[1m2/2\u001b[0m \u001b[32m━━━━━━━━━━━━━━━━━━━━\u001b[0m\u001b[37m\u001b[0m \u001b[1m0s\u001b[0m 137ms/step\n"
     ]
    },
    {
     "name": "stderr",
     "output_type": "stream",
     "text": [
      "2025-06-24 22:03:30,177 - INFO - Métricas de teste para Porto_Alegre: MAE=1.4763, RMSE=2.2659, R²=0.2599\n"
     ]
    },
    {
     "name": "stdout",
     "output_type": "stream",
     "text": [
      "\u001b[1m2/2\u001b[0m \u001b[32m━━━━━━━━━━━━━━━━━━━━\u001b[0m\u001b[37m\u001b[0m \u001b[1m0s\u001b[0m 15ms/step\n",
      "\u001b[1m2/2\u001b[0m \u001b[32m━━━━━━━━━━━━━━━━━━━━\u001b[0m\u001b[37m\u001b[0m \u001b[1m0s\u001b[0m 15ms/step\n"
     ]
    },
    {
     "name": "stderr",
     "output_type": "stream",
     "text": [
      "2025-06-24 22:03:30,772 - INFO - Gráficos salvos para Porto_Alegre\n",
      "2025-06-24 22:03:30,776 - INFO - Métricas e previsões salvas para Porto_Alegre\n",
      "2025-06-24 22:03:30,777 - INFO - ===== Processamento para Porto_Alegre concluído =====\n",
      "\n",
      "2025-06-24 22:03:30,777 - INFO - ===== Iniciando processamento para Campo_Grande (5002704) =====\n",
      "2025-06-24 22:03:30,776 - INFO - Métricas e previsões salvas para Porto_Alegre\n",
      "2025-06-24 22:03:30,777 - INFO - ===== Processamento para Porto_Alegre concluído =====\n",
      "\n",
      "2025-06-24 22:03:30,777 - INFO - ===== Iniciando processamento para Campo_Grande (5002704) =====\n",
      "2025-06-24 22:03:30,787 - INFO - Dados para Campo_Grande filtrados e limpos: (1152, 10)\n",
      "2025-06-24 22:03:30,793 - INFO - Dados preparados para o modelo. Treino: (1036, 12, 1), Validação: (40, 12, 1), Teste: (40, 12, 1)\n",
      "2025-06-24 22:03:30,787 - INFO - Dados para Campo_Grande filtrados e limpos: (1152, 10)\n",
      "2025-06-24 22:03:30,793 - INFO - Dados preparados para o modelo. Treino: (1036, 12, 1), Validação: (40, 12, 1), Teste: (40, 12, 1)\n",
      "2025-06-24 22:03:37,452 - INFO - Modelo treinado para Campo_Grande. Perda final de validação: 0.1065\n",
      "2025-06-24 22:03:37,452 - INFO - Modelo treinado para Campo_Grande. Perda final de validação: 0.1065\n"
     ]
    },
    {
     "name": "stdout",
     "output_type": "stream",
     "text": [
      "\u001b[1m2/2\u001b[0m \u001b[32m━━━━━━━━━━━━━━━━━━━━\u001b[0m\u001b[37m\u001b[0m \u001b[1m0s\u001b[0m 105ms/step\n",
      "\u001b[1m2/2\u001b[0m \u001b[32m━━━━━━━━━━━━━━━━━━━━\u001b[0m\u001b[37m\u001b[0m \u001b[1m0s\u001b[0m 105ms/step\n"
     ]
    },
    {
     "name": "stderr",
     "output_type": "stream",
     "text": [
      "2025-06-24 22:03:37,696 - INFO - Métricas de teste para Campo_Grande: MAE=0.6093, RMSE=0.8061, R²=0.7439\n"
     ]
    },
    {
     "name": "stdout",
     "output_type": "stream",
     "text": [
      "\u001b[1m2/2\u001b[0m \u001b[32m━━━━━━━━━━━━━━━━━━━━\u001b[0m\u001b[37m\u001b[0m \u001b[1m0s\u001b[0m 19ms/step\n",
      "\u001b[1m2/2\u001b[0m \u001b[32m━━━━━━━━━━━━━━━━━━━━\u001b[0m\u001b[37m\u001b[0m \u001b[1m0s\u001b[0m 19ms/step\n"
     ]
    },
    {
     "name": "stderr",
     "output_type": "stream",
     "text": [
      "2025-06-24 22:03:38,270 - INFO - Gráficos salvos para Campo_Grande\n",
      "2025-06-24 22:03:38,274 - INFO - Métricas e previsões salvas para Campo_Grande\n",
      "2025-06-24 22:03:38,275 - INFO - ===== Processamento para Campo_Grande concluído =====\n",
      "\n",
      "2025-06-24 22:03:38,275 - INFO - ===== Iniciando processamento para Cuiaba (5103403) =====\n",
      "2025-06-24 22:03:38,286 - INFO - Dados para Cuiaba filtrados e limpos: (1152, 10)\n",
      "2025-06-24 22:03:38,274 - INFO - Métricas e previsões salvas para Campo_Grande\n",
      "2025-06-24 22:03:38,275 - INFO - ===== Processamento para Campo_Grande concluído =====\n",
      "\n",
      "2025-06-24 22:03:38,275 - INFO - ===== Iniciando processamento para Cuiaba (5103403) =====\n",
      "2025-06-24 22:03:38,286 - INFO - Dados para Cuiaba filtrados e limpos: (1152, 10)\n",
      "2025-06-24 22:03:38,293 - INFO - Dados preparados para o modelo. Treino: (1036, 12, 1), Validação: (40, 12, 1), Teste: (40, 12, 1)\n",
      "2025-06-24 22:03:38,293 - INFO - Dados preparados para o modelo. Treino: (1036, 12, 1), Validação: (40, 12, 1), Teste: (40, 12, 1)\n",
      "2025-06-24 22:03:53,843 - INFO - Modelo treinado para Cuiaba. Perda final de validação: 0.0549\n",
      "2025-06-24 22:03:53,843 - INFO - Modelo treinado para Cuiaba. Perda final de validação: 0.0549\n"
     ]
    },
    {
     "name": "stdout",
     "output_type": "stream",
     "text": [
      "\u001b[1m2/2\u001b[0m \u001b[32m━━━━━━━━━━━━━━━━━━━━\u001b[0m\u001b[37m\u001b[0m \u001b[1m0s\u001b[0m 105ms/step\n",
      "\u001b[1m2/2\u001b[0m \u001b[32m━━━━━━━━━━━━━━━━━━━━\u001b[0m\u001b[37m\u001b[0m \u001b[1m0s\u001b[0m 105ms/step\n"
     ]
    },
    {
     "name": "stderr",
     "output_type": "stream",
     "text": [
      "2025-06-24 22:03:54,085 - INFO - Métricas de teste para Cuiaba: MAE=1.1588, RMSE=1.7400, R²=0.4466\n"
     ]
    },
    {
     "name": "stdout",
     "output_type": "stream",
     "text": [
      "\u001b[1m2/2\u001b[0m \u001b[32m━━━━━━━━━━━━━━━━━━━━\u001b[0m\u001b[37m\u001b[0m \u001b[1m0s\u001b[0m 16ms/step\n",
      "\u001b[1m2/2\u001b[0m \u001b[32m━━━━━━━━━━━━━━━━━━━━\u001b[0m\u001b[37m\u001b[0m \u001b[1m0s\u001b[0m 16ms/step\n"
     ]
    },
    {
     "name": "stderr",
     "output_type": "stream",
     "text": [
      "2025-06-24 22:03:54,627 - INFO - Gráficos salvos para Cuiaba\n",
      "2025-06-24 22:03:54,632 - INFO - Métricas e previsões salvas para Cuiaba\n",
      "2025-06-24 22:03:54,632 - INFO - ===== Processamento para Cuiaba concluído =====\n",
      "\n",
      "2025-06-24 22:03:54,633 - INFO - ===== Iniciando processamento para Goiania (5208707) =====\n",
      "2025-06-24 22:03:54,643 - INFO - Dados para Goiania filtrados e limpos: (1152, 10)\n",
      "2025-06-24 22:03:54,632 - INFO - Métricas e previsões salvas para Cuiaba\n",
      "2025-06-24 22:03:54,632 - INFO - ===== Processamento para Cuiaba concluído =====\n",
      "\n",
      "2025-06-24 22:03:54,633 - INFO - ===== Iniciando processamento para Goiania (5208707) =====\n",
      "2025-06-24 22:03:54,643 - INFO - Dados para Goiania filtrados e limpos: (1152, 10)\n",
      "2025-06-24 22:03:54,650 - INFO - Dados preparados para o modelo. Treino: (1036, 12, 1), Validação: (40, 12, 1), Teste: (40, 12, 1)\n",
      "2025-06-24 22:03:54,650 - INFO - Dados preparados para o modelo. Treino: (1036, 12, 1), Validação: (40, 12, 1), Teste: (40, 12, 1)\n",
      "2025-06-24 22:04:17,016 - INFO - Modelo treinado para Goiania. Perda final de validação: 0.0165\n",
      "2025-06-24 22:04:17,016 - INFO - Modelo treinado para Goiania. Perda final de validação: 0.0165\n"
     ]
    },
    {
     "name": "stdout",
     "output_type": "stream",
     "text": [
      "\u001b[1m2/2\u001b[0m \u001b[32m━━━━━━━━━━━━━━━━━━━━\u001b[0m\u001b[37m\u001b[0m \u001b[1m0s\u001b[0m 105ms/step\n",
      "\u001b[1m2/2\u001b[0m \u001b[32m━━━━━━━━━━━━━━━━━━━━\u001b[0m\u001b[37m\u001b[0m \u001b[1m0s\u001b[0m 105ms/step\n"
     ]
    },
    {
     "name": "stderr",
     "output_type": "stream",
     "text": [
      "2025-06-24 22:04:17,267 - INFO - Métricas de teste para Goiania: MAE=0.9904, RMSE=1.3985, R²=0.5570\n"
     ]
    },
    {
     "name": "stdout",
     "output_type": "stream",
     "text": [
      "\u001b[1m2/2\u001b[0m \u001b[32m━━━━━━━━━━━━━━━━━━━━\u001b[0m\u001b[37m\u001b[0m \u001b[1m0s\u001b[0m 27ms/step\n",
      "\u001b[1m2/2\u001b[0m \u001b[32m━━━━━━━━━━━━━━━━━━━━\u001b[0m\u001b[37m\u001b[0m \u001b[1m0s\u001b[0m 27ms/step\n"
     ]
    },
    {
     "name": "stderr",
     "output_type": "stream",
     "text": [
      "2025-06-24 22:04:17,820 - INFO - Gráficos salvos para Goiania\n",
      "2025-06-24 22:04:17,824 - INFO - Métricas e previsões salvas para Goiania\n",
      "2025-06-24 22:04:17,825 - INFO - ===== Processamento para Goiania concluído =====\n",
      "\n",
      "2025-06-24 22:04:17,825 - INFO - ===== Iniciando processamento para Brasilia (5300108) =====\n",
      "2025-06-24 22:04:17,834 - INFO - Dados para Brasilia filtrados e limpos: (1152, 10)\n",
      "2025-06-24 22:04:17,824 - INFO - Métricas e previsões salvas para Goiania\n",
      "2025-06-24 22:04:17,825 - INFO - ===== Processamento para Goiania concluído =====\n",
      "\n",
      "2025-06-24 22:04:17,825 - INFO - ===== Iniciando processamento para Brasilia (5300108) =====\n",
      "2025-06-24 22:04:17,834 - INFO - Dados para Brasilia filtrados e limpos: (1152, 10)\n",
      "2025-06-24 22:04:17,842 - INFO - Dados preparados para o modelo. Treino: (1036, 12, 1), Validação: (40, 12, 1), Teste: (40, 12, 1)\n",
      "2025-06-24 22:04:17,842 - INFO - Dados preparados para o modelo. Treino: (1036, 12, 1), Validação: (40, 12, 1), Teste: (40, 12, 1)\n",
      "2025-06-24 22:04:29,563 - INFO - Modelo treinado para Brasilia. Perda final de validação: 0.0733\n",
      "2025-06-24 22:04:29,563 - INFO - Modelo treinado para Brasilia. Perda final de validação: 0.0733\n"
     ]
    },
    {
     "name": "stdout",
     "output_type": "stream",
     "text": [
      "\u001b[1m2/2\u001b[0m \u001b[32m━━━━━━━━━━━━━━━━━━━━\u001b[0m\u001b[37m\u001b[0m \u001b[1m0s\u001b[0m 109ms/step\n",
      "\u001b[1m2/2\u001b[0m \u001b[32m━━━━━━━━━━━━━━━━━━━━\u001b[0m\u001b[37m\u001b[0m \u001b[1m0s\u001b[0m 109ms/step\n"
     ]
    },
    {
     "name": "stderr",
     "output_type": "stream",
     "text": [
      "2025-06-24 22:04:29,810 - INFO - Métricas de teste para Brasilia: MAE=1.4185, RMSE=1.9908, R²=0.6522\n"
     ]
    },
    {
     "name": "stdout",
     "output_type": "stream",
     "text": [
      "\u001b[1m2/2\u001b[0m \u001b[32m━━━━━━━━━━━━━━━━━━━━\u001b[0m\u001b[37m\u001b[0m \u001b[1m0s\u001b[0m 18ms/step\n",
      "\u001b[1m2/2\u001b[0m \u001b[32m━━━━━━━━━━━━━━━━━━━━\u001b[0m\u001b[37m\u001b[0m \u001b[1m0s\u001b[0m 18ms/step\n"
     ]
    },
    {
     "name": "stderr",
     "output_type": "stream",
     "text": [
      "2025-06-24 22:04:30,374 - INFO - Gráficos salvos para Brasilia\n",
      "2025-06-24 22:04:30,378 - INFO - Métricas e previsões salvas para Brasilia\n",
      "2025-06-24 22:04:30,379 - INFO - ===== Processamento para Brasilia concluído =====\n",
      "\n",
      "2025-06-24 22:04:30,380 - INFO - --- Treinamento em lote concluído para todas as cidades ---\n",
      "2025-06-24 22:04:30,378 - INFO - Métricas e previsões salvas para Brasilia\n",
      "2025-06-24 22:04:30,379 - INFO - ===== Processamento para Brasilia concluído =====\n",
      "\n",
      "2025-06-24 22:04:30,380 - INFO - --- Treinamento em lote concluído para todas as cidades ---\n"
     ]
    }
   ],
   "source": [
    "# =============================================================================\n",
    "# Loop de Treinamento em Lote\n",
    "# =============================================================================\n",
    "\n",
    "# Carregar o dataset completo uma vez\n",
    "try:\n",
    "    df_full = load_city_data(DATA_PATH)\n",
    "    logging.info(f\"Dataset completo carregado com sucesso: {df_full.shape}\")\n",
    "except Exception as e:\n",
    "    logging.error(f\"Falha ao carregar o dataset principal. Encerrando a execução. Erro: {e}\")\n",
    "    df_full = None\n",
    "\n",
    "if df_full is not None:\n",
    "    for cd_mun, city_name in STATE_CAPITALS.items():\n",
    "        logging.info(f\"===== Iniciando processamento para {city_name} ({cd_mun}) =====\")\n",
    "\n",
    "        try:\n",
    "            # --- 1. Filtrar e Preparar Dados ---\n",
    "            df_city = filter_city(df_full, cd_mun=cd_mun)\n",
    "            if df_city.empty:\n",
    "                logging.warning(f\"Nenhum dado encontrado para {city_name} ({cd_mun}). Pulando.\")\n",
    "                continue\n",
    "\n",
    "            df_city['week'] = pd.to_datetime(df_city['week'])\n",
    "            df_city = df_city.set_index('week').sort_index()\n",
    "            df_city = clean_timeseries(df_city, target_column=TARGET_COLUMN)\n",
    "            logging.info(f\"Dados para {city_name} filtrados e limpos: {df_city.shape}\")\n",
    "\n",
    "            # --- 2. Preparar Dados para o Modelo ---\n",
    "            data_dict = prepare_data_for_model(\n",
    "                df=df_city,\n",
    "                target_column=TARGET_COLUMN,\n",
    "                feature_columns=FEATURE_COLUMNS.copy(),\n",
    "                sequence_length=SEQUENCE_LENGTH,\n",
    "                forecast_horizon=FORECAST_HORIZON,\n",
    "                test_size=TEST_SIZE,\n",
    "                val_size=VAL_SIZE,\n",
    "            )\n",
    "            X_train, y_train = data_dict['X_train'], data_dict['y_train']\n",
    "            X_val, y_val = data_dict['X_val'], data_dict['y_val']\n",
    "            X_test, y_test = data_dict['X_test'], data_dict['y_test']\n",
    "            scaler = data_dict['scaler']\n",
    "            original_val_df = data_dict['original_val_df']\n",
    "            original_test_df = data_dict['original_test_df']\n",
    "            logging.info(f\"Dados preparados para o modelo. Treino: {X_train.shape}, Validação: {X_val.shape}, Teste: {X_test.shape}\")\n",
    "\n",
    "            # --- 3. Construir e Treinar o Modelo ---\n",
    "            tf.keras.backend.clear_session()\n",
    "            np.random.seed(42)\n",
    "            tf.random.set_seed(42)\n",
    "            \n",
    "            input_shape = X_train.shape[1:]\n",
    "            model = build_gru(input_shape=input_shape, units=GRU_UNITS, loss=LOSS_FUNCTION)\n",
    "            \n",
    "            history = train_model(\n",
    "                model=model, X_train=X_train, y_train=y_train, X_val=X_val, y_val=y_val,\n",
    "                epochs=EPOCHS, batch_size=BATCH_SIZE, patience=PATIENCE, verbose=0\n",
    "            )\n",
    "            logging.info(f\"Modelo treinado para {city_name}. Perda final de validação: {history.history['val_loss'][-1]:.4f}\")\n",
    "\n",
    "            # --- 4. Avaliar o Modelo ---\n",
    "            y_pred_normalized = model.predict(X_test)\n",
    "            metrics = evaluate_model(\n",
    "                y_true=y_test, y_pred=y_pred_normalized, scaler=scaler,\n",
    "                target_idx=FEATURE_COLUMNS.index(TARGET_COLUMN)\n",
    "            )\n",
    "            y_true_denorm = metrics['y_true_denorm']\n",
    "            y_pred_denorm = metrics['y_pred_denorm']\n",
    "            logging.info(f\"Métricas de teste para {city_name}: MAE={metrics['mae']:.4f}, RMSE={metrics['rmse']:.4f}, R²={metrics['r2']:.4f}\")\n",
    "\n",
    "            # --- 5. Visualizar e Salvar Resultados ---\n",
    "            # Gerar previsões de validação para o plot\n",
    "            y_val_pred_normalized = model.predict(X_val)\n",
    "            val_metrics = evaluate_model(\n",
    "                y_true=y_val, y_pred=y_val_pred_normalized, scaler=scaler,\n",
    "                target_idx=FEATURE_COLUMNS.index(TARGET_COLUMN)\n",
    "            )\n",
    "            y_val_true_denorm = val_metrics['y_true_denorm']\n",
    "            y_val_pred_denorm = val_metrics['y_pred_denorm']\n",
    "\n",
    "            # Combinar dados para o plot\n",
    "            combined_true = np.concatenate([y_val_true_denorm, y_true_denorm])\n",
    "            combined_pred = np.concatenate([y_val_pred_denorm, y_pred_denorm])\n",
    "            val_dates = original_val_df.index[-len(y_val_true_denorm):]\n",
    "            test_dates = original_test_df.index[-len(y_true_denorm):]\n",
    "            combined_dates = val_dates.union(test_dates)\n",
    "\n",
    "            # Plot combinado\n",
    "            fig_combined, ax = plt.subplots(figsize=(18, 6))\n",
    "            ax.plot(combined_dates, combined_true, 'o-', color='royalblue', label='Real')\n",
    "            ax.plot(combined_dates, combined_pred, '.-', color='red', label='Previsão')\n",
    "            test_start_date = test_dates[0]\n",
    "            ax.axvline(x=test_start_date, color='green', linestyle='--', label=f'Início do Teste')\n",
    "            ax.set_title(f'{city_name} - Previsão (Validação + Teste)', fontsize=16)\n",
    "            ax.legend()\n",
    "            ax.grid(True)\n",
    "            fig_combined.savefig(os.path.join(RESULTS_DIR, f'{city_name}_combined_forecast.png'), dpi=300)\n",
    "            plt.close(fig_combined)\n",
    "\n",
    "            # Plot de dispersão\n",
    "            fig_scatter = plot_actual_vs_predicted_scatter(\n",
    "                y_true=y_true_denorm, y_pred=y_pred_denorm,\n",
    "                title=f'{city_name} - Teste: Reais vs. Previstos', metrics=metrics\n",
    "            )\n",
    "            fig_scatter.savefig(os.path.join(RESULTS_DIR, f'{city_name}_scatter_plot.png'), dpi=300)\n",
    "            plt.close(fig_scatter)\n",
    "            logging.info(f\"Gráficos salvos para {city_name}\")\n",
    "\n",
    "            # --- 6. Salvar Métricas e Predições ---\n",
    "            save_predictions(\n",
    "                y_true=y_true_denorm, y_pred=y_pred_denorm, dates=test_dates,\n",
    "                city_name=city_name, model_name='gru_simple', output_dir=RESULTS_DIR\n",
    "            )\n",
    "            params_to_save = {'cd_mun': cd_mun, 'sequence_length': SEQUENCE_LENGTH, 'epochs': EPOCHS, 'gru_units': GRU_UNITS}\n",
    "            metrics_to_save = {k: v for k, v in metrics.items() if k in ['mae', 'rmse', 'r2']}\n",
    "            save_metrics(\n",
    "                metrics=metrics_to_save, city_name=city_name, model_name='gru_simple',\n",
    "                output_dir=RESULTS_DIR, params=params_to_save\n",
    "            )\n",
    "            logging.info(f\"Métricas e previsões salvas para {city_name}\")\n",
    "\n",
    "        except ValueError as ve:\n",
    "            logging.error(f\"Erro de valor ao processar {city_name} ({cd_mun}): {ve}. Pulando.\")\n",
    "        except Exception as e:\n",
    "            logging.error(f\"Uma exceção inesperada ocorreu ao processar {city_name} ({cd_mun}): {e}\", exc_info=True)\n",
    "        \n",
    "        logging.info(f\"===== Processamento para {city_name} concluído =====\\n\")\n",
    "\n",
    "    logging.info(\"--- Treinamento em lote concluído para todas as cidades ---\")"
   ]
  },
  {
   "cell_type": "markdown",
   "id": "30b7a3b3",
   "metadata": {},
   "source": [
    "## Conclusão do Treinamento em Lote\n",
    "\n",
    "Este notebook executou com sucesso o treinamento, avaliação e salvamento de resultados para um modelo GRU em múltiplas capitais estaduais.\n",
    "\n",
    "- **Automação:** O processo foi totalmente automatizado, iterando sobre uma lista predefinida de cidades.\n",
    "- **Modularidade:** O código aproveitou as funções do diretório `src/`, mantendo o notebook limpo e focado na orquestração do fluxo de trabalho em lote.\n",
    "- **Organização dos Resultados:** Todos os artefatos gerados (gráficos, métricas e previsões) para cada cidade foram salvos em um diretório de execução claramente nomeado, garantindo que os resultados sejam fáceis de encontrar e analisar.\n",
    "- **Tratamento de Erros:** O loop inclui tratamento de exceções para garantir que a falha no processamento de uma cidade não interrompa todo o processo.\n",
    "\n",
    "Os resultados agora estão disponíveis no diretório `results/gru_batch_state_capitals_morb_circ/` para análise detalhada."
   ]
  }
 ],
 "metadata": {
  "kernelspec": {
   "display_name": ".conda",
   "language": "python",
   "name": "python3"
  },
  "language_info": {
   "codemirror_mode": {
    "name": "ipython",
    "version": 3
   },
   "file_extension": ".py",
   "mimetype": "text/x-python",
   "name": "python",
   "nbconvert_exporter": "python",
   "pygments_lexer": "ipython3",
   "version": "3.10.16"
  }
 },
 "nbformat": 4,
 "nbformat_minor": 5
}
